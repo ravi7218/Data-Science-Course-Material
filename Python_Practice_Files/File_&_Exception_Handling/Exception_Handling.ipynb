{
 "cells": [
  {
   "cell_type": "markdown",
   "metadata": {},
   "source": [
    "# Exception Handling"
   ]
  },
  {
   "cell_type": "markdown",
   "metadata": {},
   "source": [
    "#### Exception handling in python allows you to handle error gracefully and take corrective actions wothout stopping the execution of the program. \n",
    "\n",
    "Exceptions are events that disrupt the normal flow of a program. They occur when an error is encountered during program execution. common exceptions include:\n",
    "\n",
    "ZeroDivisionError: Dividing by zero\n",
    "FilNotFoundError:file not found\n",
    "ValueError: value error\n",
    "TypeError: invalid type"
   ]
  },
  {
   "cell_type": "code",
   "execution_count": 1,
   "metadata": {},
   "outputs": [
    {
     "name": "stdout",
     "output_type": "stream",
     "text": [
      "the variable has not assigned\n"
     ]
    }
   ],
   "source": [
    "## Exception try, except block\n",
    "\n",
    "try:\n",
    "    a = b \n",
    "\n",
    "except:\n",
    "    print('the variable has not assigned')    "
   ]
  },
  {
   "cell_type": "code",
   "execution_count": 2,
   "metadata": {},
   "outputs": [
    {
     "name": "stdout",
     "output_type": "stream",
     "text": [
      "name 'b' is not defined\n"
     ]
    }
   ],
   "source": [
    "try:\n",
    "    a = b \n",
    "\n",
    "except NameError as ex:\n",
    "    print(ex)    "
   ]
  },
  {
   "cell_type": "code",
   "execution_count": 5,
   "metadata": {},
   "outputs": [
    {
     "name": "stdout",
     "output_type": "stream",
     "text": [
      "division by zero\n",
      "pleaes enter number greater than 0\n"
     ]
    }
   ],
   "source": [
    "try:\n",
    "    result = 1/0\n",
    "except ZeroDivisionError as ex:\n",
    "    print(ex)\n",
    "    print('pleaes enter number greater than 0')"
   ]
  },
  {
   "cell_type": "code",
   "execution_count": 9,
   "metadata": {},
   "outputs": [
    {
     "name": "stdout",
     "output_type": "stream",
     "text": [
      "name 'b' is not defined\n",
      "main exception got caught here\n"
     ]
    }
   ],
   "source": [
    "try:\n",
    "    result = 1/3\n",
    "    a=b\n",
    "except ZeroDivisionError as ex:\n",
    "    print(ex)\n",
    "    print('pleaes enter number greater than 0')\n",
    "\n",
    "except Exception as ex1:\n",
    "    print(ex1)  \n",
    "    print('main exception got caught here')  "
   ]
  },
  {
   "cell_type": "code",
   "execution_count": null,
   "metadata": {},
   "outputs": [
    {
     "name": "stdout",
     "output_type": "stream",
     "text": [
      "this is not a valid number\n"
     ]
    }
   ],
   "source": [
    "try: \n",
    "    num = int(input('enter a nubmer: '))\n",
    "    result = 10/num\n",
    "except ValueError:\n",
    "    print('this is not a valid number')\n",
    "except ZeroDivisionError:\n",
    "    print('enter number greater than zero')\n",
    "            "
   ]
  },
  {
   "cell_type": "code",
   "execution_count": 12,
   "metadata": {},
   "outputs": [
    {
     "name": "stdout",
     "output_type": "stream",
     "text": [
      "the result is : 0.43478260869565216\n"
     ]
    }
   ],
   "source": [
    "# try except and else\n",
    "\n",
    "try: \n",
    "    num = int(input('enter a number: '))\n",
    "    result = 10/num\n",
    "except ValueError:\n",
    "     print('this is not a valid number')\n",
    "except ZeroDivisionError:\n",
    "    print('enter number greater than zero')\n",
    "except Exception as ex:\n",
    "    print(ex)\n",
    "else:\n",
    "    print('the result is :', result)        \n",
    "    "
   ]
  },
  {
   "cell_type": "code",
   "execution_count": 13,
   "metadata": {},
   "outputs": [
    {
     "name": "stdout",
     "output_type": "stream",
     "text": [
      "the result is : 0.029154518950437316\n",
      "Execution complete\n"
     ]
    }
   ],
   "source": [
    "\n",
    "\n",
    "try: \n",
    "    num = int(input('enter a number: '))\n",
    "    result = 10/num\n",
    "except ValueError:\n",
    "     print('this is not a valid number')\n",
    "except ZeroDivisionError:\n",
    "    print('enter number greater than zero')\n",
    "except Exception as ex:\n",
    "    print(ex)\n",
    "else:\n",
    "    print('the result is :', result) \n",
    "\n",
    "finally:\n",
    "    print('Execution complete')    "
   ]
  },
  {
   "cell_type": "code",
   "execution_count": 14,
   "metadata": {},
   "outputs": [
    {
     "name": "stdout",
     "output_type": "stream",
     "text": [
      "THe file does not exist\n"
     ]
    }
   ],
   "source": [
    "## file handling and exception handling\n",
    "\n",
    "try: \n",
    "    file = open('example1.text', 'r')\n",
    "    data = file.read()\n",
    "    print(data)\n",
    "\n",
    "except FileNotFoundError:\n",
    "    print('THe file does not exist')\n",
    "finally:\n",
    "    if 'file' in locals() and not file.closed():\n",
    "        print('file closed')        "
   ]
  },
  {
   "cell_type": "code",
   "execution_count": null,
   "metadata": {},
   "outputs": [],
   "source": []
  },
  {
   "cell_type": "code",
   "execution_count": null,
   "metadata": {},
   "outputs": [],
   "source": []
  },
  {
   "cell_type": "code",
   "execution_count": null,
   "metadata": {},
   "outputs": [],
   "source": []
  },
  {
   "cell_type": "code",
   "execution_count": null,
   "metadata": {},
   "outputs": [],
   "source": []
  },
  {
   "cell_type": "code",
   "execution_count": null,
   "metadata": {},
   "outputs": [],
   "source": []
  },
  {
   "cell_type": "code",
   "execution_count": null,
   "metadata": {},
   "outputs": [],
   "source": []
  },
  {
   "cell_type": "code",
   "execution_count": null,
   "metadata": {},
   "outputs": [],
   "source": []
  }
 ],
 "metadata": {
  "kernelspec": {
   "display_name": "base",
   "language": "python",
   "name": "python3"
  },
  "language_info": {
   "codemirror_mode": {
    "name": "ipython",
    "version": 3
   },
   "file_extension": ".py",
   "mimetype": "text/x-python",
   "name": "python",
   "nbconvert_exporter": "python",
   "pygments_lexer": "ipython3",
   "version": "3.9.12"
  }
 },
 "nbformat": 4,
 "nbformat_minor": 2
}
