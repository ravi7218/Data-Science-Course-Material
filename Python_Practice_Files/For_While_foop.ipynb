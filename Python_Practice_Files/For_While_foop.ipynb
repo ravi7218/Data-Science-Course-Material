{
 "cells": [
  {
   "cell_type": "markdown",
   "metadata": {},
   "source": [
    "# For loop and While loop practice"
   ]
  },
  {
   "cell_type": "code",
   "execution_count": 1,
   "metadata": {},
   "outputs": [
    {
     "name": "stdout",
     "output_type": "stream",
     "text": [
      "original number:  1234\n",
      "reverse number :  4321\n"
     ]
    }
   ],
   "source": [
    "# reverse the number\n",
    "\n",
    "num = 1234\n",
    "print('original number: ', num)\n",
    "rev = 0\n",
    "\n",
    "while num!=0:\n",
    "    rem = num%10\n",
    "    rev = rev*10 + rem\n",
    "    num = num//10 \n",
    "print('reverse number : ', rev) "
   ]
  },
  {
   "cell_type": "code",
   "execution_count": 2,
   "metadata": {},
   "outputs": [
    {
     "name": "stdout",
     "output_type": "stream",
     "text": [
      "original number :  1234\n",
      "reverse number : 4321\n"
     ]
    }
   ],
   "source": [
    "num = 1234\n",
    "print('original number : ', num)\n",
    "rev = 0\n",
    "\n",
    "while num>0:\n",
    "    rem = num%10\n",
    "    rev = rev*10 + rem\n",
    "    num = num//10\n",
    "\n",
    "print('reverse number :', rev)"
   ]
  },
  {
   "cell_type": "code",
   "execution_count": 5,
   "metadata": {},
   "outputs": [
    {
     "name": "stdout",
     "output_type": "stream",
     "text": [
      "factorial of given number is:  120\n"
     ]
    }
   ],
   "source": [
    "# find the factorial of given numbere \n",
    "\n",
    "num = int(input('enter a number to find the factorial: '))\n",
    "\n",
    "i = 1\n",
    "fact = 1\n",
    "while i<=num:\n",
    "    fact*=i\n",
    "    i+=1\n",
    "    \n",
    "print('factorial of given number is: ', fact)\n",
    "    \n",
    "\n"
   ]
  },
  {
   "cell_type": "code",
   "execution_count": 6,
   "metadata": {},
   "outputs": [
    {
     "name": "stdout",
     "output_type": "stream",
     "text": [
      "Palindrome\n"
     ]
    }
   ],
   "source": [
    "# to check the given number is palindrom \n",
    "num = int(input('enter a number to check palindrome: '))\n",
    "n = num\n",
    "rev = 0\n",
    "\n",
    "while num > 0:\n",
    "    rem = num % 10         # Get the last digit of the number\n",
    "    rev = rev * 10 + rem   # Append the last digit to the reverse\n",
    "    num = num // 10        # Remove the last digit from the original number\n",
    "\n",
    "if n == rev:\n",
    "    print('Palindrome')\n",
    "else:\n",
    "    print('Not a palindrome')"
   ]
  },
  {
   "cell_type": "code",
   "execution_count": 7,
   "metadata": {},
   "outputs": [
    {
     "name": "stdout",
     "output_type": "stream",
     "text": [
      "2 x 1 = 2\n",
      "2 x 2 = 4\n",
      "2 x 3 = 6\n",
      "2 x 4 = 8\n",
      "2 x 5 = 10\n",
      "2 x 6 = 12\n",
      "2 x 7 = 14\n",
      "2 x 8 = 16\n",
      "2 x 9 = 18\n",
      "2 x 10 = 20\n"
     ]
    }
   ],
   "source": [
    "# wap to create the numtiplication table of given number \n",
    "\n",
    "num = int(input('enter a number'))\n",
    "\n",
    "multiply = 1\n",
    "while multiply<=10:\n",
    "    \n",
    "    result = multiply * num\n",
    "    print(num, 'x', multiply, '=', result)\n",
    "    multiply+=1"
   ]
  },
  {
   "cell_type": "code",
   "execution_count": null,
   "metadata": {},
   "outputs": [
    {
     "name": "stdout",
     "output_type": "stream",
     "text": [
      "121 this is not\n"
     ]
    }
   ],
   "source": [
    "# Check the armstrong\n",
    "\n",
    "num = int(input('enter number'))\n",
    "\n",
    "sum = 0\n",
    "n = num\n",
    "\n",
    "while n >0:\n",
    "    digit = n % 10\n",
    "    sum += digit ** 3\n",
    "    n //= 10\n",
    "\n",
    "if num == sum:\n",
    "    print(num, 'this is armstrong')\n",
    "else:\n",
    "    print(num, 'this is not')   "
   ]
  },
  {
   "cell_type": "code",
   "execution_count": 10,
   "metadata": {},
   "outputs": [
    {
     "name": "stdout",
     "output_type": "stream",
     "text": [
      "3\n",
      "6\n",
      "9\n",
      "12\n",
      "15\n",
      "18\n",
      "21\n",
      "24\n",
      "27\n",
      "30\n"
     ]
    }
   ],
   "source": [
    "# Create a program to print the multiplication table of a given number using a while loop.\n",
    "\n",
    "num = int(input('enter number : '))\n",
    "\n",
    "multiply = 1 \n",
    "\n",
    "while multiply<=10:\n",
    "    result = num * multiply\n",
    "    print(result)\n",
    "    multiply+=1"
   ]
  },
  {
   "cell_type": "code",
   "execution_count": null,
   "metadata": {},
   "outputs": [],
   "source": []
  },
  {
   "cell_type": "code",
   "execution_count": null,
   "metadata": {},
   "outputs": [],
   "source": []
  }
 ],
 "metadata": {
  "kernelspec": {
   "display_name": "base",
   "language": "python",
   "name": "python3"
  },
  "language_info": {
   "codemirror_mode": {
    "name": "ipython",
    "version": 3
   },
   "file_extension": ".py",
   "mimetype": "text/x-python",
   "name": "python",
   "nbconvert_exporter": "python",
   "pygments_lexer": "ipython3",
   "version": "3.9.12"
  }
 },
 "nbformat": 4,
 "nbformat_minor": 2
}
