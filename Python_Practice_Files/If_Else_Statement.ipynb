{
 "cells": [
  {
   "cell_type": "markdown",
   "metadata": {},
   "source": [
    "# Conditional Statement Practice"
   ]
  },
  {
   "cell_type": "code",
   "execution_count": 1,
   "metadata": {},
   "outputs": [
    {
     "name": "stdout",
     "output_type": "stream",
     "text": [
      "12 is positive\n"
     ]
    }
   ],
   "source": [
    "# to check the number is positive or negative \n",
    "\n",
    "num = int(input('enter a number to check the positive or negative : '))\n",
    "\n",
    "if num>=0:\n",
    "    print(num, 'is positive')\n",
    "else:\n",
    "    print(num, 'is negative number')"
   ]
  },
  {
   "cell_type": "code",
   "execution_count": 3,
   "metadata": {},
   "outputs": [
    {
     "name": "stdout",
     "output_type": "stream",
     "text": [
      "46 addition\n"
     ]
    }
   ],
   "source": [
    "# calculator\n",
    "\n",
    "operator = input('Enter operator: ')\n",
    "num1 = int(input('Enter number: '))\n",
    "num2 = int(input('Enter number: '))\n",
    "\n",
    "if operator == '+':\n",
    "    print(num1 + num2, 'addition')\n",
    "elif operator == '-':\n",
    "    print(num1 - num2, 'subtraction')\n",
    "elif operator == '*':\n",
    "    print(num1 * num2, 'multiplication')\n",
    "elif operator == '/':\n",
    "    if num2 != 0:\n",
    "        print(num1 / num2, 'division')\n",
    "    else:\n",
    "        print('Error: Division by zero')\n",
    "else:\n",
    "    print('Invalid operator')"
   ]
  },
  {
   "cell_type": "code",
   "execution_count": 4,
   "metadata": {},
   "outputs": [
    {
     "name": "stdout",
     "output_type": "stream",
     "text": [
      "121 not prime\n"
     ]
    }
   ],
   "source": [
    "# wap to check the given number is prime or not \n",
    "\n",
    "def check_prime(num):\n",
    "    is_prime = True\n",
    "    if num < 2:\n",
    "        is_prime = False\n",
    "    else:\n",
    "        for i in range(2, num):\n",
    "            if num % i == 0:\n",
    "                is_prime = False\n",
    "                break\n",
    "    if is_prime:\n",
    "        print(num, 'prime')\n",
    "    else:\n",
    "        print(num, 'not prime')\n",
    "\n",
    "\n",
    "num = int(input('enter anumber :'))\n",
    "check_prime(num)"
   ]
  },
  {
   "cell_type": "code",
   "execution_count": 5,
   "metadata": {},
   "outputs": [
    {
     "name": "stdout",
     "output_type": "stream",
     "text": [
      "Driver is insured.\n"
     ]
    }
   ],
   "source": [
    "marital_status = input(\"Enter marital status (married/unmarried): \")\n",
    "sex = input(\"Enter sex (male/female): \")\n",
    "age = int(input(\"Enter age: \"))\n",
    "\n",
    "if marital_status == \"married\":\n",
    "    print(\"Driver is insured.\")\n",
    "elif marital_status == \"unmarried\" and sex == \"male\" and age > 30:\n",
    "    print(\"Driver is insured.\")\n",
    "elif marital_status == \"unmarried\" and sex == \"female\" and age > 25:\n",
    "    print(\"Driver is insured.\")\n",
    "else:\n",
    "    print(\"Driver is not insured.\")\n"
   ]
  },
  {
   "cell_type": "code",
   "execution_count": 6,
   "metadata": {},
   "outputs": [
    {
     "name": "stdout",
     "output_type": "stream",
     "text": [
      "Eligible to vote\n"
     ]
    }
   ],
   "source": [
    "# Write a program to determine the eligibility of a person to vote based on their age:\n",
    "# If the age is 18 or older, print \"Eligible to vote\"; otherwise, print \"Not eligible to vote.\"\n",
    "\n",
    "age = int(input('enter age : '))\n",
    "\n",
    "if age>=18:\n",
    "    print('Eligible to vote')\n",
    "else:\n",
    "    print('Not eligible to vote') "
   ]
  },
  {
   "cell_type": "code",
   "execution_count": null,
   "metadata": {},
   "outputs": [],
   "source": []
  },
  {
   "cell_type": "code",
   "execution_count": null,
   "metadata": {},
   "outputs": [],
   "source": []
  },
  {
   "cell_type": "code",
   "execution_count": null,
   "metadata": {},
   "outputs": [],
   "source": []
  },
  {
   "cell_type": "code",
   "execution_count": null,
   "metadata": {},
   "outputs": [],
   "source": []
  },
  {
   "cell_type": "code",
   "execution_count": null,
   "metadata": {},
   "outputs": [],
   "source": []
  },
  {
   "cell_type": "code",
   "execution_count": null,
   "metadata": {},
   "outputs": [],
   "source": []
  }
 ],
 "metadata": {
  "kernelspec": {
   "display_name": "base",
   "language": "python",
   "name": "python3"
  },
  "language_info": {
   "codemirror_mode": {
    "name": "ipython",
    "version": 3
   },
   "file_extension": ".py",
   "mimetype": "text/x-python",
   "name": "python",
   "nbconvert_exporter": "python",
   "pygments_lexer": "ipython3",
   "version": "3.9.12"
  }
 },
 "nbformat": 4,
 "nbformat_minor": 2
}
