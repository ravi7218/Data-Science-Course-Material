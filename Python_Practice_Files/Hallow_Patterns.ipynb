{
 "cells": [
  {
   "cell_type": "code",
   "execution_count": 1,
   "metadata": {},
   "outputs": [
    {
     "name": "stdout",
     "output_type": "stream",
     "text": [
      "* \n",
      "* * \n",
      "*   * \n",
      "*     * \n",
      "*       * \n",
      "*     * \n",
      "*   * \n",
      "* * \n",
      "* \n",
      "\n"
     ]
    }
   ],
   "source": [
    "i = 1\n",
    "while i<=5: \n",
    "    j = 1\n",
    "    while j<=i:\n",
    "        if j==1 or i==j:\n",
    "            print('*', end=' ')\n",
    "        \n",
    "        else:\n",
    "            print(' ', end=' ')   \n",
    "        j+=1     \n",
    "    i+=1\n",
    "    print()    \n",
    "\n",
    "\n",
    "i = 1 \n",
    "while i<=5:\n",
    "    j = 1 \n",
    "    while j<=5-i:\n",
    "        if j==1  or 5-i==j:\n",
    "            print('*',end=' ')\n",
    "            \n",
    "        else:\n",
    "            print(' ', end=' ')  \n",
    "        j+=1      \n",
    "    i+=1\n",
    "    print() "
   ]
  },
  {
   "cell_type": "code",
   "execution_count": 2,
   "metadata": {},
   "outputs": [
    {
     "name": "stdout",
     "output_type": "stream",
     "text": [
      "* * * * * * * * * * \n",
      "*                 * \n",
      "*                 * \n",
      "*                 * \n",
      "*                 * \n",
      "*                 * \n",
      "*                 * \n",
      "*                 * \n",
      "*                 * \n",
      "* * * * * * * * * * \n"
     ]
    }
   ],
   "source": [
    "i = 1 \n",
    "while i<=10:\n",
    "    j = 1\n",
    "    while j<=10:\n",
    "        if i==1 or i==10 or j==1 or j==10:\n",
    "            print('*', end=' ')\n",
    "        else:\n",
    "            print(' ',end=' ')    \n",
    "        j+=1\n",
    "    i+=1\n",
    "    print()    \n"
   ]
  },
  {
   "cell_type": "code",
   "execution_count": 3,
   "metadata": {},
   "outputs": [
    {
     "name": "stdout",
     "output_type": "stream",
     "text": [
      "*                   \n",
      "* *                 \n",
      "*   *               \n",
      "*     *             \n",
      "*       *           \n",
      "*         *         \n",
      "*           *       \n",
      "*             *     \n",
      "*               *   \n",
      "* * * * * * * * * * \n"
     ]
    }
   ],
   "source": [
    "i = 1 \n",
    "while i<=10:\n",
    "    j = 1\n",
    "    while j<=10:\n",
    "        if j==1 or i==10 or i==j:\n",
    "            print('*', end=' ')\n",
    "        else:\n",
    "            print(' ',end=' ')    \n",
    "        j+=1\n",
    "    i+=1\n",
    "    print()    "
   ]
  },
  {
   "cell_type": "code",
   "execution_count": 4,
   "metadata": {},
   "outputs": [
    {
     "name": "stdout",
     "output_type": "stream",
     "text": [
      "          *\n",
      "         **\n",
      "        * *\n",
      "       *  *\n",
      "      *   *\n",
      "     *    *\n",
      "    *     *\n",
      "   *      *\n",
      "  *       *\n",
      " **********\n"
     ]
    }
   ],
   "source": [
    "i = 1 \n",
    "while i<=10:\n",
    "    j = i\n",
    "    while j<=10:\n",
    "        print(' ', end='')\n",
    "        j+=1\n",
    "    j = 1\n",
    "    while j<=i:\n",
    "\n",
    "        if j==1 or i==10 or i==j:\n",
    "            print('*', end='')\n",
    "        else:\n",
    "            print(' ', end='')\n",
    "        j+=1\n",
    "    i+=1\n",
    "    print()        "
   ]
  },
  {
   "cell_type": "code",
   "execution_count": null,
   "metadata": {},
   "outputs": [],
   "source": []
  },
  {
   "cell_type": "code",
   "execution_count": null,
   "metadata": {},
   "outputs": [],
   "source": []
  },
  {
   "cell_type": "code",
   "execution_count": null,
   "metadata": {},
   "outputs": [],
   "source": []
  }
 ],
 "metadata": {
  "kernelspec": {
   "display_name": "base",
   "language": "python",
   "name": "python3"
  },
  "language_info": {
   "codemirror_mode": {
    "name": "ipython",
    "version": 3
   },
   "file_extension": ".py",
   "mimetype": "text/x-python",
   "name": "python",
   "nbconvert_exporter": "python",
   "pygments_lexer": "ipython3",
   "version": "3.9.12"
  }
 },
 "nbformat": 4,
 "nbformat_minor": 2
}
