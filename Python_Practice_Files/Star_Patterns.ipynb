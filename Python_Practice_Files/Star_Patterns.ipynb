{
 "cells": [
  {
   "cell_type": "markdown",
   "metadata": {},
   "source": [
    "# Star Patterns Practice"
   ]
  },
  {
   "cell_type": "code",
   "execution_count": 2,
   "metadata": {},
   "outputs": [
    {
     "name": "stdout",
     "output_type": "stream",
     "text": [
      "* \n",
      "* * \n",
      "* * * \n",
      "* * * * \n",
      "* * * * * \n"
     ]
    }
   ],
   "source": [
    "# Right angled trinagle\n",
    "\n",
    "i = 0\n",
    "\n",
    "while i < 5:\n",
    "    j = 0 \n",
    "    while j < i+1:\n",
    "        print('*', end=' ')\n",
    "        j+=1\n",
    "    print()\n",
    "    i+=1    "
   ]
  },
  {
   "cell_type": "code",
   "execution_count": 4,
   "metadata": {},
   "outputs": [
    {
     "name": "stdout",
     "output_type": "stream",
     "text": [
      "* * * * * \n",
      "  * * * * \n",
      "    * * * \n",
      "      * * \n",
      "        * \n",
      "          \n"
     ]
    }
   ],
   "source": [
    "i = 0\n",
    "\n",
    "while i<=5:\n",
    "    j=0\n",
    "    while j<i:\n",
    "        print(' ', end=' ')\n",
    "        j+=1\n",
    "    k = 1\n",
    "    while k<=5-i:\n",
    "        print('*', end=' ')\n",
    "        k+=1\n",
    "    i+=1\n",
    "    print()        \n"
   ]
  },
  {
   "cell_type": "code",
   "execution_count": 5,
   "metadata": {},
   "outputs": [
    {
     "name": "stdout",
     "output_type": "stream",
     "text": [
      "  * * * * @ @ @ \n",
      "    * * * @ @ \n",
      "      * * @ \n",
      "        * \n",
      "          \n"
     ]
    }
   ],
   "source": [
    "i = 1\n",
    "\n",
    "while i<=5:\n",
    "    j = 0\n",
    "    while j<i:\n",
    "        print(' ', end=' ')\n",
    "        j+=1\n",
    "\n",
    "    k = 1\n",
    "    while k<=5-i:\n",
    "        print('*', end=' ')\n",
    "        k+=1    \n",
    "\n",
    "    l = 1\n",
    "    while l<5-i:\n",
    "        print('@', end=' ')\n",
    "        l+=1    \n",
    "    i+=1\n",
    "\n",
    "    print()   "
   ]
  },
  {
   "cell_type": "code",
   "execution_count": 15,
   "metadata": {},
   "outputs": [
    {
     "name": "stdout",
     "output_type": "stream",
     "text": [
      "                  * \n",
      "                * * * \n",
      "              * * * * * \n",
      "            * * * * * * * \n",
      "          * * * * * * * * * \n",
      "        * * * * * * * * * * * \n",
      "      * * * * * * * * * * * * * \n",
      "    * * * * * * * * * * * * * * * \n",
      "  * * * * * * * * * * * * * * * * * \n",
      "* * * * * * * * * * * * * * * * * * * \n",
      "  * * * * * * * * * * * * * * * * * \n",
      "    * * * * * * * * * * * * * * * \n",
      "      * * * * * * * * * * * * * \n",
      "        * * * * * * * * * * * \n",
      "          * * * * * * * * * \n",
      "            * * * * * * * \n",
      "              * * * * * \n",
      "                * * * \n",
      "                  * \n"
     ]
    }
   ],
   "source": [
    "i= 1\n",
    "while i<=10:\n",
    "\n",
    "    j=0\n",
    "    while j<10-i:\n",
    "        print(' ', end=' ')\n",
    "        j+=1\n",
    "    k = 1\n",
    "    while k<=i:\n",
    "        print('*', end=' ')\n",
    "        k+=1\n",
    "    l = 1\n",
    "    while l<i:\n",
    "        print('*', end=' ')\n",
    "        l+=1\n",
    "    i+=1\n",
    "    print()     \n",
    "i = 1\n",
    "while i<10:\n",
    "    j = 0\n",
    "    while j<i:\n",
    "        print(' ', end=' ')\n",
    "        j+=1\n",
    "    k = 1\n",
    "    while k<=9-i:\n",
    "        print('*', end=' ')\n",
    "        k+=1\n",
    "    l = 1\n",
    "    while l<=10-i:\n",
    "        print('*', end=' ')\n",
    "        l+=1    \n",
    "    i+=1\n",
    "    print()  "
   ]
  },
  {
   "cell_type": "code",
   "execution_count": 16,
   "metadata": {},
   "outputs": [
    {
     "name": "stdout",
     "output_type": "stream",
     "text": [
      "        \n",
      "      * \n",
      "    * * \n",
      "  * * * \n",
      "* * * * \n",
      "  * * * \n",
      "    * * \n",
      "      * \n",
      "        \n"
     ]
    }
   ],
   "source": [
    "\n",
    "i = 1\n",
    "while i<=5:\n",
    "    j = 0\n",
    "    while j<5-i:\n",
    "        print(' ', end=' ')\n",
    "        j+=1\n",
    "    k = 1\n",
    "    while k<i:\n",
    "        print('*', end=' ')\n",
    "        k+=1 \n",
    "    i+=1\n",
    "    print()    \n",
    "i = 1\n",
    "while i<5:\n",
    "    j = 0\n",
    "    while j<i:\n",
    "        print(' ', end=' ')\n",
    "        j+=1\n",
    "    k = 1\n",
    "    while k<5-i:\n",
    "        print('*', end=' ')\n",
    "        k+=1\n",
    "    i+=1\n",
    "    print() "
   ]
  },
  {
   "cell_type": "code",
   "execution_count": 17,
   "metadata": {},
   "outputs": [
    {
     "name": "stdout",
     "output_type": "stream",
     "text": [
      "        * * * * \n",
      "      * * * * \n",
      "    * * * * \n",
      "  * * * * \n"
     ]
    }
   ],
   "source": [
    "i = 1 \n",
    "while i<5:\n",
    "    j=0\n",
    "    while j<5-i:\n",
    "        print(' ',end=' ')\n",
    "        j+=1\n",
    "\n",
    "    k = 1\n",
    "    while k<5:\n",
    "        print('*', end=' ')\n",
    "        k+=1\n",
    "    i+=1\n",
    "    print() "
   ]
  },
  {
   "cell_type": "code",
   "execution_count": 18,
   "metadata": {},
   "outputs": [
    {
     "name": "stdout",
     "output_type": "stream",
     "text": [
      "    * \n",
      "   * * \n",
      "  * * * \n",
      " * * * * \n",
      "* * * * * \n",
      " * * * * \n",
      "  * * * \n",
      "   * * \n",
      "    * \n"
     ]
    }
   ],
   "source": [
    "for i in range(1,6):\n",
    "\n",
    "    for j in range(5-i):\n",
    "        print(' ', end='')\n",
    "    for j in range(i):\n",
    "        print('*', end=' ')\n",
    "       \n",
    "    print()\n",
    "for i in range(4,0,-1):\n",
    "    for j in range(5-i):\n",
    "        print(' ', end='')\n",
    "    for j in range(i):\n",
    "        print('*', end=' ')\n",
    "    print()     "
   ]
  },
  {
   "cell_type": "code",
   "execution_count": 19,
   "metadata": {},
   "outputs": [
    {
     "name": "stdout",
     "output_type": "stream",
     "text": [
      "                      \n",
      "                    * \n",
      "                  * * * \n",
      "                * * * * * \n",
      "              * * * * * * * \n",
      "            * * * * * * * * * \n",
      "          * * * * * * * * * * * \n",
      "        * * * * * * * * * * * * * \n",
      "      * * * * * * * * * * * * * * * \n"
     ]
    }
   ],
   "source": [
    "for i in range(10,1,-1):\n",
    "\n",
    "    for j in range(i+1):\n",
    "        print(' ', end=' ')\n",
    "    for j in range(10-i):\n",
    "        print('*', end=' ')\n",
    "    for i in range(9-i):\n",
    "        print('*', end=' ')    \n",
    "    print()        \n"
   ]
  },
  {
   "cell_type": "code",
   "execution_count": 20,
   "metadata": {},
   "outputs": [
    {
     "name": "stdout",
     "output_type": "stream",
     "text": [
      "* * * * * * * * * * \n",
      "* * * * * * * * * * \n",
      "* * * * * * * * * * \n",
      "* * * * * * * * * * \n",
      "* * * * * * * * * * \n",
      "* * * * * * * * * * \n",
      "* * * * * * * * * * \n",
      "* * * * * * * * * * \n",
      "* * * * * * * * * * \n",
      "* * * * * * * * * * \n"
     ]
    }
   ],
   "source": [
    "\n",
    "for i in range(10):\n",
    "\n",
    "    for j in range(10):\n",
    "        print('*', end=' ')\n",
    "    print()    \n"
   ]
  },
  {
   "cell_type": "code",
   "execution_count": 21,
   "metadata": {},
   "outputs": [
    {
     "name": "stdout",
     "output_type": "stream",
     "text": [
      "* * * * * \n",
      "  * * * * \n",
      "    * * * \n",
      "      * * \n",
      "        * \n"
     ]
    }
   ],
   "source": [
    "for i in range(5,0,-1):\n",
    "\n",
    "    for j in range(5-i):\n",
    "        print(' ', end=' ')\n",
    "    for j in range(i):\n",
    "        print('*', end=' ')\n",
    "    print()    "
   ]
  },
  {
   "cell_type": "code",
   "execution_count": 22,
   "metadata": {},
   "outputs": [
    {
     "name": "stdout",
     "output_type": "stream",
     "text": [
      "         +\n",
      "        *++\n",
      "       **+++\n",
      "      ***++++\n",
      "     ****+++++\n",
      "    *****++++++\n",
      "   ******+++++++\n",
      "  *******++++++++\n",
      " ********+++++++++\n",
      "*********++++++++++\n"
     ]
    }
   ],
   "source": [
    "for i in range(10):\n",
    "\n",
    "    for j in range(9-i):\n",
    "        print(' ', end = '')\n",
    "    for j in range(i):\n",
    "        print('*', end = '')\n",
    "    for j in range(i+1):\n",
    "        print('+', end = '')\n",
    "        \n",
    "    print()    "
   ]
  },
  {
   "cell_type": "code",
   "execution_count": null,
   "metadata": {},
   "outputs": [],
   "source": []
  }
 ],
 "metadata": {
  "kernelspec": {
   "display_name": "base",
   "language": "python",
   "name": "python3"
  },
  "language_info": {
   "codemirror_mode": {
    "name": "ipython",
    "version": 3
   },
   "file_extension": ".py",
   "mimetype": "text/x-python",
   "name": "python",
   "nbconvert_exporter": "python",
   "pygments_lexer": "ipython3",
   "version": "3.9.12"
  }
 },
 "nbformat": 4,
 "nbformat_minor": 2
}
