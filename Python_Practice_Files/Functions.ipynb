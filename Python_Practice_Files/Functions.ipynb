{
 "cells": [
  {
   "cell_type": "markdown",
   "metadata": {},
   "source": [
    "# Functions practice\n"
   ]
  },
  {
   "cell_type": "markdown",
   "metadata": {},
   "source": [
    "### Function\n",
    "\n",
    "#### A function is a block of code that performs a specific operation. Fucntions help in orgainzing code, reusing code, and improving readibility. \n",
    "#### Function can be defined by using def keyward. "
   ]
  },
  {
   "cell_type": "code",
   "execution_count": 1,
   "metadata": {},
   "outputs": [],
   "source": [
    "# syntax\n",
    "\n",
    "def function_name(parameters):\n",
    "    return expression"
   ]
  },
  {
   "cell_type": "code",
   "execution_count": 2,
   "metadata": {},
   "outputs": [
    {
     "name": "stdout",
     "output_type": "stream",
     "text": [
      "24 is even\n"
     ]
    }
   ],
   "source": [
    "# why function?\n",
    "\n",
    "num = 24\n",
    "if num%2==0:\n",
    "    print(num, 'is even')\n",
    "else:\n",
    "    print(num, 'is odd')    "
   ]
  },
  {
   "cell_type": "code",
   "execution_count": 3,
   "metadata": {},
   "outputs": [],
   "source": [
    "def even_or_odd(num):\n",
    "    \"\"\"This function finds even or odd\"\"\"\n",
    "    \n",
    "    if num%2==0:\n",
    "        print(num, 'is even')\n",
    "    else:\n",
    "        print(num, 'is odd') \n",
    "\n",
    "        "
   ]
  },
  {
   "cell_type": "code",
   "execution_count": 5,
   "metadata": {},
   "outputs": [
    {
     "name": "stdout",
     "output_type": "stream",
     "text": [
      "2433 is odd\n"
     ]
    }
   ],
   "source": [
    "# call the function\n",
    "\n",
    "even_or_odd(2433)"
   ]
  },
  {
   "cell_type": "code",
   "execution_count": 6,
   "metadata": {},
   "outputs": [
    {
     "name": "stdout",
     "output_type": "stream",
     "text": [
      "5\n"
     ]
    }
   ],
   "source": [
    "# function with multiple parameters\n",
    "\n",
    "def add(a,b):\n",
    "    \"\"\"Adding two numbers\"\"\"\n",
    "    return a+b\n",
    "result = add(2,3)\n",
    "print(result)\n",
    "\n",
    "\n"
   ]
  },
  {
   "cell_type": "code",
   "execution_count": 8,
   "metadata": {},
   "outputs": [
    {
     "name": "stdout",
     "output_type": "stream",
     "text": [
      "Hello ravi welcome to pune\n"
     ]
    }
   ],
   "source": [
    "## default parameters \n",
    "\n",
    "def greet(name):\n",
    "    print(f\"Hello {name} welcome to pune\")\n",
    "\n",
    "greet('ravi')\n"
   ]
  },
  {
   "cell_type": "code",
   "execution_count": 9,
   "metadata": {},
   "outputs": [
    {
     "name": "stdout",
     "output_type": "stream",
     "text": [
      "1\n",
      "2\n",
      "3\n",
      "4\n",
      "5\n",
      "ravi\n"
     ]
    }
   ],
   "source": [
    "## variable length arguments\n",
    "\n",
    "# positional and keywords arguments\n",
    "\n",
    "def print_numbers(*args):\n",
    "    for numbers in args:\n",
    "        print(numbers)\n",
    "\n",
    "print_numbers(1,2,3,4,5,'ravi')\n",
    "\n"
   ]
  },
  {
   "cell_type": "code",
   "execution_count": null,
   "metadata": {},
   "outputs": [
    {
     "name": "stdout",
     "output_type": "stream",
     "text": [
      "name ravi\n",
      "age 24\n"
     ]
    }
   ],
   "source": [
    "# Keyword arguments\n",
    "\n",
    "def print_details(**kwargs):\n",
    "\n",
    "    for key, value in kwargs.items():\n",
    "        print(key, value)\n",
    "\n",
    "print_details(name='ravi', age=24)        "
   ]
  },
  {
   "cell_type": "code",
   "execution_count": 11,
   "metadata": {},
   "outputs": [
    {
     "name": "stdout",
     "output_type": "stream",
     "text": [
      " Positional argument :1\n",
      " Positional argument :2\n",
      " Positional argument :3\n",
      " Positional argument :4\n",
      " Positional argument :5\n",
      "name ravi\n",
      "age 24\n"
     ]
    }
   ],
   "source": [
    "def print_details(*args, **kwargs):\n",
    "    for val in args:\n",
    "        print(f\" Positional argument :{val}\")\n",
    "    for key, value in kwargs.items():\n",
    "        print(key, value)\n",
    "\n",
    "print_details(1,2,3,4,5, name='ravi', age=24)  "
   ]
  },
  {
   "cell_type": "code",
   "execution_count": 12,
   "metadata": {},
   "outputs": [
    {
     "data": {
      "text/plain": [
       "6"
      ]
     },
     "execution_count": 12,
     "metadata": {},
     "output_type": "execute_result"
    }
   ],
   "source": [
    "# Return statement\n",
    "\n",
    "def multiply(a,b):\n",
    "    return a*b\n",
    "multiply(2,3)    "
   ]
  },
  {
   "cell_type": "code",
   "execution_count": 13,
   "metadata": {},
   "outputs": [
    {
     "data": {
      "text/plain": [
       "(6, 2)"
      ]
     },
     "execution_count": 13,
     "metadata": {},
     "output_type": "execute_result"
    }
   ],
   "source": [
    "# Return statement\n",
    "\n",
    "def multiply(a,b):\n",
    "    return a*b,a\n",
    "multiply(2,3)"
   ]
  },
  {
   "cell_type": "code",
   "execution_count": 16,
   "metadata": {},
   "outputs": [
    {
     "name": "stdout",
     "output_type": "stream",
     "text": [
      "121 this is palindorm\n"
     ]
    }
   ],
   "source": [
    "def menu():\n",
    "    print('palindorm')\n",
    "    print('factorial')\n",
    "    print('prime_number')\n",
    "\n",
    "\n",
    "def palindorm():\n",
    "    num = int(input('enter number to check palindorm : '))\n",
    "    n = num\n",
    "    rev = 0\n",
    "    while num>0:\n",
    "        rem = num%10\n",
    "        rev = rev*10+rem\n",
    "        num = num//10\n",
    "    if n == rev:\n",
    "        print(n, 'this is palindorm')\n",
    "    else:\n",
    "        print(n, 'this is not plaindorm')        \n",
    "\n",
    "def factorial():\n",
    "    num = int(input('enter a number to find the factorial : '))\n",
    "    i = 1 \n",
    "    fact = 1\n",
    "    while i<=num:\n",
    "        fact*=i\n",
    "        i+=1\n",
    "    print(fact, 'this is factorial')\n",
    "\n",
    "def prime():\n",
    "    num = int(input('enter number to check the prime number : '))\n",
    "    i = 1 \n",
    "    n = num\n",
    "    while i<num:\n",
    "        if i%2==0:\n",
    "            n = False\n",
    "        i+=1\n",
    "    if n:\n",
    "        print(num, 'this is prime number')\n",
    "    else:\n",
    "        print(num, 'this is not prime number')       \n",
    "\n",
    "n = int(input('enter a number : '))\n",
    "if n==1:\n",
    "    palindorm()\n",
    "elif n==2:\n",
    "    factorial()\n",
    "elif n==3:\n",
    "    prime()\n",
    "else:\n",
    "    print('Invalid Input') "
   ]
  },
  {
   "cell_type": "code",
   "execution_count": 17,
   "metadata": {},
   "outputs": [
    {
     "name": "stdout",
     "output_type": "stream",
     "text": [
      "sum is : 35\n"
     ]
    }
   ],
   "source": [
    "# write a function that take two number as a input and return their sum\n",
    "\n",
    "def sum_of_two_num(a,b):\n",
    "    \n",
    "    return a+b\n",
    "\n",
    "num1 = int(input('enter a first number : '))\n",
    "num2 = int(input('enter second number : '))\n",
    "\n",
    "print('sum is :' ,sum_of_two_num(num1,num2))\n"
   ]
  },
  {
   "cell_type": "code",
   "execution_count": 18,
   "metadata": {},
   "outputs": [
    {
     "name": "stdout",
     "output_type": "stream",
     "text": [
      "result :  25\n"
     ]
    }
   ],
   "source": [
    "# calculator function\n",
    "\n",
    "def Calculator_function(a,b):\n",
    "    \n",
    "    if input_operator=='+':\n",
    "        return a+b\n",
    "    elif input_operator=='/':\n",
    "        return a/b\n",
    "    elif input_operator=='-':\n",
    "        return a-b\n",
    "    else:\n",
    "        return a*b\n",
    "\n",
    "input_operator = input('enter operator here : ')\n",
    "print('result : ', Calculator_function(20,5))\n"
   ]
  },
  {
   "cell_type": "code",
   "execution_count": null,
   "metadata": {},
   "outputs": [],
   "source": []
  }
 ],
 "metadata": {
  "kernelspec": {
   "display_name": "base",
   "language": "python",
   "name": "python3"
  },
  "language_info": {
   "codemirror_mode": {
    "name": "ipython",
    "version": 3
   },
   "file_extension": ".py",
   "mimetype": "text/x-python",
   "name": "python",
   "nbconvert_exporter": "python",
   "pygments_lexer": "ipython3",
   "version": "3.9.12"
  }
 },
 "nbformat": 4,
 "nbformat_minor": 2
}
