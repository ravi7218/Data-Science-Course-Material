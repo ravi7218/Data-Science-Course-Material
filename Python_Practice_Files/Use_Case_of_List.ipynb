{
 "cells": [
  {
   "cell_type": "markdown",
   "metadata": {},
   "source": [
    "# Real world use case of list"
   ]
  },
  {
   "cell_type": "code",
   "execution_count": 1,
   "metadata": {},
   "outputs": [
    {
     "name": "stdout",
     "output_type": "stream",
     "text": [
      "dont forgot to pay the utility bills\n",
      "To do list remaining\n",
      "BuyGroceries\n",
      "Pay bills\n",
      "Schedule meeting\n",
      "Go for Run\n"
     ]
    }
   ],
   "source": [
    "# Manage a to do list\n",
    "\n",
    "to_do_list = [\"BuyGroceries\", \"Clean the house\", \"Pay bills\"]\n",
    "\n",
    "## Adding new taks \n",
    "\n",
    "to_do_list.append(\"Schedule meeting\")\n",
    "to_do_list.append(\"Go for Run\")\n",
    "\n",
    "## Removing a completed task\n",
    "\n",
    "to_do_list.remove(\"Clean the house\")\n",
    "\n",
    "## checking if a task is in the list\n",
    "\n",
    "if 'Pay bills' in to_do_list:\n",
    "    print('dont forgot to pay the utility bills')\n",
    "\n",
    "print('To do list remaining')\n",
    "for task in to_do_list:\n",
    "    print(task)    "
   ]
  },
  {
   "cell_type": "code",
   "execution_count": 2,
   "metadata": {},
   "outputs": [
    {
     "name": "stdout",
     "output_type": "stream",
     "text": [
      "average grade : 84.5\n",
      "highest grade : 95\n",
      "lowest grade : 66\n"
     ]
    }
   ],
   "source": [
    "# Organizing student grade \n",
    "\n",
    "grades = [85,92,79, 90, 66]\n",
    "\n",
    "# adding new grade\n",
    "grades.append(95)\n",
    "\n",
    "# calculating the average grade\n",
    "\n",
    "average_grade = sum(grades) / len(grades)\n",
    "print('average grade :', average_grade)\n",
    "\n",
    "# finding the highest and lowest grade\n",
    "\n",
    "highest_grade = max(grades)\n",
    "lowest_grade = min(grades)\n",
    "\n",
    "print('highest grade :', highest_grade)\n",
    "print('lowest grade :', lowest_grade)"
   ]
  },
  {
   "cell_type": "code",
   "execution_count": 3,
   "metadata": {},
   "outputs": [
    {
     "name": "stdout",
     "output_type": "stream",
     "text": [
      "orange in stock\n"
     ]
    }
   ],
   "source": [
    "# Managing the inventory\n",
    "\n",
    "inventory = ['apple', 'banana', 'orange', 'grapes']\n",
    "\n",
    "# adding a new item \n",
    "\n",
    "inventory.append('mango')\n",
    "\n",
    "# removing item that out of stock\n",
    "\n",
    "inventory.remove('banana')\n",
    "\n",
    "# checking if item in stock or not\n",
    "\n",
    "item = 'orange'\n",
    "if item in inventory:\n",
    "    print(item, 'in stock')\n",
    "else: \n",
    "    print(item, 'not in sotck')"
   ]
  },
  {
   "cell_type": "code",
   "execution_count": null,
   "metadata": {},
   "outputs": [],
   "source": []
  }
 ],
 "metadata": {
  "kernelspec": {
   "display_name": "base",
   "language": "python",
   "name": "python3"
  },
  "language_info": {
   "codemirror_mode": {
    "name": "ipython",
    "version": 3
   },
   "file_extension": ".py",
   "mimetype": "text/x-python",
   "name": "python",
   "nbconvert_exporter": "python",
   "pygments_lexer": "ipython3",
   "version": "3.9.12"
  }
 },
 "nbformat": 4,
 "nbformat_minor": 2
}
