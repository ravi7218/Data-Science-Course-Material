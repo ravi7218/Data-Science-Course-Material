{
 "cells": [
  {
   "cell_type": "markdown",
   "metadata": {},
   "source": [
    "# List Practice "
   ]
  },
  {
   "cell_type": "code",
   "execution_count": 2,
   "metadata": {},
   "outputs": [],
   "source": [
    "# list is collection of different objects\n",
    "# list is mutable object, we can change it after creation\n",
    "# It is a ordered collection\n",
    "#"
   ]
  },
  {
   "cell_type": "code",
   "execution_count": 3,
   "metadata": {},
   "outputs": [
    {
     "name": "stdout",
     "output_type": "stream",
     "text": [
      "<class 'list'>\n"
     ]
    }
   ],
   "source": [
    "lst = []\n",
    "print(type(lst))"
   ]
  },
  {
   "cell_type": "code",
   "execution_count": 5,
   "metadata": {},
   "outputs": [
    {
     "name": "stdout",
     "output_type": "stream",
     "text": [
      "['ravi', 'sham', 'dkg']\n"
     ]
    }
   ],
   "source": [
    "names = ['ravi', 'sham', 'dkg']\n",
    "print(names)"
   ]
  },
  {
   "cell_type": "code",
   "execution_count": 6,
   "metadata": {},
   "outputs": [
    {
     "name": "stdout",
     "output_type": "stream",
     "text": [
      "[1, 2, 3, 'ravi', 'pune', 44.3, True]\n"
     ]
    }
   ],
   "source": [
    "mixed_list = [1,2,3,'ravi', 'pune', 44.3, True]\n",
    "print(mixed_list)"
   ]
  },
  {
   "cell_type": "code",
   "execution_count": 13,
   "metadata": {},
   "outputs": [
    {
     "name": "stdout",
     "output_type": "stream",
     "text": [
      "apple\n",
      "bnanna\n",
      "chery\n"
     ]
    }
   ],
   "source": [
    "## Accessing list elements\n",
    "\n",
    "fruits = ['apple', 'bnanna', 'chery', 'kiwi', 'gauva']\n",
    "print(fruits[0])\n",
    "print(fruits[1])\n",
    "print(fruits[2])"
   ]
  },
  {
   "cell_type": "code",
   "execution_count": 8,
   "metadata": {},
   "outputs": [
    {
     "data": {
      "text/plain": [
       "['apple', 'bnanna']"
      ]
     },
     "execution_count": 8,
     "metadata": {},
     "output_type": "execute_result"
    }
   ],
   "source": [
    "fruits[0:2]"
   ]
  },
  {
   "cell_type": "code",
   "execution_count": 14,
   "metadata": {},
   "outputs": [
    {
     "data": {
      "text/plain": [
       "['bnanna', 'chery', 'kiwi', 'gauva']"
      ]
     },
     "execution_count": 14,
     "metadata": {},
     "output_type": "execute_result"
    }
   ],
   "source": [
    "fruits[1:]"
   ]
  },
  {
   "cell_type": "code",
   "execution_count": 15,
   "metadata": {},
   "outputs": [
    {
     "data": {
      "text/plain": [
       "['gauva']"
      ]
     },
     "execution_count": 15,
     "metadata": {},
     "output_type": "execute_result"
    }
   ],
   "source": [
    "fruits[-1:]"
   ]
  },
  {
   "cell_type": "code",
   "execution_count": 11,
   "metadata": {},
   "outputs": [
    {
     "name": "stdout",
     "output_type": "stream",
     "text": [
      "apple\n"
     ]
    }
   ],
   "source": [
    "for i in fruits:\n",
    "    print(i)\n",
    "    break"
   ]
  },
  {
   "cell_type": "code",
   "execution_count": 16,
   "metadata": {},
   "outputs": [
    {
     "data": {
      "text/plain": [
       "['apple', 'bnanna', 'chery', 'kiwi', 'gauva']"
      ]
     },
     "execution_count": 16,
     "metadata": {},
     "output_type": "execute_result"
    }
   ],
   "source": [
    "# modify the list element\n",
    "\n",
    "fruits"
   ]
  },
  {
   "cell_type": "code",
   "execution_count": 17,
   "metadata": {},
   "outputs": [
    {
     "name": "stdout",
     "output_type": "stream",
     "text": [
      "['apple', 'watermelon', 'chery', 'kiwi', 'gauva']\n"
     ]
    }
   ],
   "source": [
    "fruits[1]= 'watermelon'\n",
    "print(fruits)"
   ]
  },
  {
   "cell_type": "code",
   "execution_count": null,
   "metadata": {},
   "outputs": [
    {
     "data": {
      "text/plain": [
       "['apple', 'watermelon', 'chery', 'kiwi', 'gauva', 'orange']"
      ]
     },
     "execution_count": 18,
     "metadata": {},
     "output_type": "execute_result"
    }
   ],
   "source": [
    "## list methods\n",
    "\n",
    "# append\n",
    "fruits.append('orange')\n",
    "fruits"
   ]
  },
  {
   "cell_type": "code",
   "execution_count": null,
   "metadata": {},
   "outputs": [
    {
     "data": {
      "text/plain": [
       "['lemon', 'apple', 'lemon', 'watermelon', 'chery', 'kiwi', 'gauva', 'orange']"
      ]
     },
     "execution_count": 20,
     "metadata": {},
     "output_type": "execute_result"
    }
   ],
   "source": [
    "# insert\n",
    "\n",
    "fruits.insert(0, 'lemon')\n",
    "fruits"
   ]
  },
  {
   "cell_type": "code",
   "execution_count": 22,
   "metadata": {},
   "outputs": [
    {
     "data": {
      "text/plain": [
       "['lemon', 'lemon', 'watermelon', 'chery', 'kiwi', 'gauva', 'orange']"
      ]
     },
     "execution_count": 22,
     "metadata": {},
     "output_type": "execute_result"
    }
   ],
   "source": [
    "fruits.remove('apple')  ## removing the first occurance of an item\n",
    "\n",
    "fruits"
   ]
  },
  {
   "cell_type": "code",
   "execution_count": 23,
   "metadata": {},
   "outputs": [
    {
     "name": "stdout",
     "output_type": "stream",
     "text": [
      "orange\n",
      "['lemon', 'lemon', 'watermelon', 'chery', 'kiwi', 'gauva']\n"
     ]
    }
   ],
   "source": [
    "## remove and return the last element\n",
    "\n",
    "popped_fruits = fruits.pop()\n",
    "print(popped_fruits)\n",
    "print(fruits)"
   ]
  },
  {
   "cell_type": "code",
   "execution_count": 24,
   "metadata": {},
   "outputs": [
    {
     "data": {
      "text/plain": [
       "0"
      ]
     },
     "execution_count": 24,
     "metadata": {},
     "output_type": "execute_result"
    }
   ],
   "source": [
    "index = fruits.index('lemon')\n",
    "index"
   ]
  },
  {
   "cell_type": "code",
   "execution_count": 26,
   "metadata": {},
   "outputs": [
    {
     "data": {
      "text/plain": [
       "['lemon', 'lemon', 'watermelon', 'chery', 'kiwi', 'gauva', 'lemon']"
      ]
     },
     "execution_count": 26,
     "metadata": {},
     "output_type": "execute_result"
    }
   ],
   "source": [
    "fruits.append('lemon')\n",
    "fruits"
   ]
  },
  {
   "cell_type": "code",
   "execution_count": 27,
   "metadata": {},
   "outputs": [
    {
     "name": "stdout",
     "output_type": "stream",
     "text": [
      "3\n"
     ]
    }
   ],
   "source": [
    "count = fruits.count('lemon')\n",
    "print(count)"
   ]
  },
  {
   "cell_type": "code",
   "execution_count": 28,
   "metadata": {},
   "outputs": [],
   "source": [
    "fruits.clear()   # remove all the elements in the list"
   ]
  },
  {
   "cell_type": "code",
   "execution_count": 29,
   "metadata": {},
   "outputs": [],
   "source": [
    "## Slicing the list"
   ]
  },
  {
   "cell_type": "code",
   "execution_count": 30,
   "metadata": {},
   "outputs": [
    {
     "name": "stdout",
     "output_type": "stream",
     "text": [
      "[3, 4, 5]\n",
      "[1, 2, 3, 4, 5]\n",
      "[6, 7, 8, 9, 10]\n",
      "[1, 3, 5, 7, 9]\n",
      "[10, 9, 8, 7, 6, 5, 4, 3, 2, 1]\n"
     ]
    }
   ],
   "source": [
    "l1 = [1,2,3,4,5,6,7,8,9,10]\n",
    "print(l1[2:5])\n",
    "print(l1[:5])\n",
    "print(l1[5:])\n",
    "print(l1[::2])\n",
    "print(l1[::-1])"
   ]
  },
  {
   "cell_type": "code",
   "execution_count": 31,
   "metadata": {},
   "outputs": [
    {
     "name": "stdout",
     "output_type": "stream",
     "text": [
      "1\n",
      "2\n",
      "3\n",
      "4\n",
      "5\n",
      "6\n",
      "7\n",
      "8\n",
      "9\n",
      "10\n"
     ]
    }
   ],
   "source": [
    "## Iterate over list\n",
    "\n",
    "for i in l1:\n",
    "    print(i)"
   ]
  },
  {
   "cell_type": "code",
   "execution_count": 32,
   "metadata": {},
   "outputs": [
    {
     "name": "stdout",
     "output_type": "stream",
     "text": [
      "0 1\n",
      "1 2\n",
      "2 3\n",
      "3 4\n",
      "4 5\n",
      "5 6\n",
      "6 7\n",
      "7 8\n",
      "8 9\n",
      "9 10\n"
     ]
    }
   ],
   "source": [
    "# Iterate with index\n",
    "\n",
    "for index, i in enumerate(l1):\n",
    "    print(index, i)\n"
   ]
  },
  {
   "cell_type": "code",
   "execution_count": 36,
   "metadata": {},
   "outputs": [
    {
     "name": "stdout",
     "output_type": "stream",
     "text": [
      "[0, 1, 4, 9, 16, 25, 36, 49, 64, 81]\n"
     ]
    }
   ],
   "source": [
    "## List comprehesnsion\n",
    "list1 = []\n",
    "for i in range(10):\n",
    "    list1.append(i**2)\n",
    "\n",
    "print(list1)"
   ]
  },
  {
   "cell_type": "code",
   "execution_count": 37,
   "metadata": {},
   "outputs": [
    {
     "data": {
      "text/plain": [
       "[0, 1, 4, 9, 16, 25, 36, 49, 64, 81]"
      ]
     },
     "execution_count": 37,
     "metadata": {},
     "output_type": "execute_result"
    }
   ],
   "source": [
    "[ i**2 for i in range(10)]"
   ]
  },
  {
   "cell_type": "code",
   "execution_count": null,
   "metadata": {},
   "outputs": [],
   "source": [
    "# list comprehension syntax\n"
   ]
  },
  {
   "cell_type": "markdown",
   "metadata": {},
   "source": [
    "## Syntax\n",
    "\n",
    "Basic Syntax:  [expression for item in iterable]\n",
    "\n",
    "with conditional logic: [expression for item in iterable if condition]\n",
    "\n",
    "Nested list comprehension: [expression fir item1 in iterable1 for item2 in iterable2]"
   ]
  },
  {
   "cell_type": "code",
   "execution_count": 38,
   "metadata": {},
   "outputs": [
    {
     "name": "stdout",
     "output_type": "stream",
     "text": [
      "[0, 1, 4, 9, 16]\n"
     ]
    }
   ],
   "source": [
    "# Basic \n",
    "\n",
    "square = [num**2 for num in range(5)]\n",
    "print(square)"
   ]
  },
  {
   "cell_type": "code",
   "execution_count": 40,
   "metadata": {},
   "outputs": [
    {
     "name": "stdout",
     "output_type": "stream",
     "text": [
      "[0, 2, 4, 6, 8]\n"
     ]
    }
   ],
   "source": [
    "## with condition\n",
    "\n",
    "l2 = []\n",
    "for i in range(10):\n",
    "    if i%2 == 0:\n",
    "        l2.append(i)\n",
    "print(l2)        \n"
   ]
  },
  {
   "cell_type": "code",
   "execution_count": 41,
   "metadata": {},
   "outputs": [
    {
     "name": "stdout",
     "output_type": "stream",
     "text": [
      "[0, 2, 4, 6, 8]\n"
     ]
    }
   ],
   "source": [
    "even = [i for i in range(10) if i%2==0]\n",
    "print(even)"
   ]
  },
  {
   "cell_type": "code",
   "execution_count": 42,
   "metadata": {},
   "outputs": [
    {
     "name": "stdout",
     "output_type": "stream",
     "text": [
      "[(1, 'a'), (1, 'b'), (1, 'c'), (1, 'd'), (2, 'a'), (2, 'b'), (2, 'c'), (2, 'd'), (3, 'a'), (3, 'b'), (3, 'c'), (3, 'd'), (4, 'a'), (4, 'b'), (4, 'c'), (4, 'd')]\n"
     ]
    }
   ],
   "source": [
    "# nested list comprehension\n",
    "\n",
    "list1 = [1,2,3,4]\n",
    "list2 = ['a', 'b', 'c', 'd']\n",
    "\n",
    "pair = [(i,j) for i in list1 for j in list2]\n",
    "print(pair)"
   ]
  },
  {
   "cell_type": "code",
   "execution_count": 43,
   "metadata": {},
   "outputs": [
    {
     "name": "stdout",
     "output_type": "stream",
     "text": [
      "[5, 5, 10, 5, 4, 5]\n"
     ]
    }
   ],
   "source": [
    "## list comprehension with function calls\n",
    "\n",
    "list3 = ['lemon', 'lemon', 'watermelon', 'chery', 'kiwi', 'gauva']\n",
    "lenght = [len(i) for i in list3]\n",
    "print(lenght)"
   ]
  },
  {
   "cell_type": "code",
   "execution_count": 44,
   "metadata": {},
   "outputs": [
    {
     "name": "stdout",
     "output_type": "stream",
     "text": [
      "0 10\n",
      "1 11\n",
      "2 12\n",
      "3 13\n",
      "4 0 1\n",
      "4 1 2\n",
      "4 2 3\n",
      "5 14\n",
      "6 15\n",
      "7 16\n"
     ]
    }
   ],
   "source": [
    "list1 = [10,11,12,13,[1,2,3],14,15,16]\n",
    "\n",
    "n = len(list1)\n",
    "for i in range(n):\n",
    "    if type(list1[i]) is list:\n",
    "        if len(list1[i])>1:\n",
    "            x = len(list1[i])\n",
    "            for j in range(x):\n",
    "                print(i,j,list1[i][j])\n",
    "            \n",
    "    else:\n",
    "        print(i,list1[i])       "
   ]
  },
  {
   "cell_type": "code",
   "execution_count": 45,
   "metadata": {},
   "outputs": [
    {
     "name": "stdout",
     "output_type": "stream",
     "text": [
      "0 1\n",
      "1 2\n",
      "2 3\n",
      "3 4\n",
      "4 5\n",
      "5 6\n",
      "6 7\n",
      "7 0 10\n",
      "7 1 11\n",
      "7 2 12\n",
      "7 3 13\n",
      "7 4 14\n",
      "8 8\n",
      "9 9\n",
      "10 10\n"
     ]
    }
   ],
   "source": [
    "# create a nested list and print with its index no. \n",
    "\n",
    "list2 = [1,2,3,4,5,6,7,[10,11,12,13,14],8,9,10]\n",
    "\n",
    "n = len(list2)\n",
    "\n",
    "for i in range(n):\n",
    "    if type(list2[i]) is list:\n",
    "        if len(list2)>1:\n",
    "            x = len(list2[i])\n",
    "            for j in range(x):\n",
    "                print(i,j,list2[i][j])\n",
    "    else:\n",
    "        print(i,list2[i]) "
   ]
  },
  {
   "cell_type": "code",
   "execution_count": 47,
   "metadata": {},
   "outputs": [
    {
     "name": "stdout",
     "output_type": "stream",
     "text": [
      "0 12\n",
      "1 3\n",
      "2 4\n",
      "3 5\n",
      "4 0 1\n",
      "4 1 2\n",
      "4 2 3\n",
      "4 3 4\n",
      "5 7\n",
      "6 8\n",
      "7 9\n",
      "total sum :  10\n",
      "<built-in function sum>\n"
     ]
    }
   ],
   "source": [
    "#  wap to calculate the sum of all elements in nested list\n",
    "\n",
    "\n",
    "list1 = [12, 3, 4, 5, [1, 2, 3, 4], 7, 8, 9]\n",
    "total_sum = 0\n",
    "\n",
    "n = len(list1)\n",
    "for i in range(n):\n",
    "    if type(list1[i]) is list:\n",
    "        if len(list1[i])>1:\n",
    "\n",
    "            x = len(list1[i])\n",
    "\n",
    "            for j in range(x):\n",
    "                total_sum = total_sum +list1[i][j]\n",
    "                print(i,j,list1[i][j])\n",
    "    else:\n",
    "        print(i,list1[i])   \n",
    "print('total sum : ', total_sum)         \n",
    "\n",
    "print(sum)       "
   ]
  },
  {
   "cell_type": "code",
   "execution_count": 48,
   "metadata": {},
   "outputs": [
    {
     "name": "stdout",
     "output_type": "stream",
     "text": [
      "True\n"
     ]
    }
   ],
   "source": [
    "# develope a code to check the specific element 5  exist in nested list\n",
    "\n",
    "list1 = [1, 2, 3, [4, 5, 6, 7], 8, 9]\n",
    "element = 5\n",
    "\n",
    "n = len(list1)\n",
    "for i in range(n):\n",
    "    if type(list1[i]) is list:\n",
    "        x = len(list1[i])\n",
    "        for j in range(x):\n",
    "            if list1[i][j] == element:\n",
    "                print(True)\n",
    "    else:\n",
    "        if list1[i] == element:\n",
    "            print(True)"
   ]
  },
  {
   "cell_type": "code",
   "execution_count": 49,
   "metadata": {},
   "outputs": [
    {
     "name": "stdout",
     "output_type": "stream",
     "text": [
      "Sorted Nested Lists: [[1, 4, 6, 7, 8, 9], [2, 3, 4, 8], [1, 4, 7, 9]]\n"
     ]
    }
   ],
   "source": [
    "\n",
    "# write a programe to sort each nested list in ascennding order \n",
    "\n",
    "               \n",
    "list1 = [1, 2, 3, 4, [6, 4, 7, 9, 1, 8], [4, 3, 2, 8], 5, 6, 8, [9, 7, 1, 4]]\n",
    "\n",
    "n = len(list1)\n",
    "sorted_nested_lists = []\n",
    "\n",
    "for i in range(n):\n",
    "    if type(list1[i]) is list:\n",
    "        sorted_nested_list = sorted(list1[i])\n",
    "        sorted_nested_lists.append(sorted_nested_list)\n",
    "    \n",
    "\n",
    "print(\"Sorted Nested Lists:\", sorted_nested_lists)\n"
   ]
  },
  {
   "cell_type": "code",
   "execution_count": 50,
   "metadata": {},
   "outputs": [
    {
     "name": "stdout",
     "output_type": "stream",
     "text": [
      "[24, 35, 9, 56, 12]\n"
     ]
    }
   ],
   "source": [
    "# interchange first and last element\n",
    "\n",
    "def swapList(newList):\n",
    "\t\n",
    "\tnewList[0], newList[-1] = newList[-1], newList[0]\n",
    "\n",
    "\treturn newList\n",
    "\t\n",
    "# Driver code\n",
    "newList = [12, 35, 9, 56, 24]\n",
    "print(swapList(newList))"
   ]
  },
  {
   "cell_type": "code",
   "execution_count": 51,
   "metadata": {},
   "outputs": [
    {
     "name": "stdout",
     "output_type": "stream",
     "text": [
      "[19, 65, 23, 90]\n"
     ]
    }
   ],
   "source": [
    "# swap \n",
    "\n",
    "\n",
    "list1 = [23,65,19,90]\n",
    "\n",
    "list1[0], list1[2] = list1[2], list1[0]\n",
    "\n",
    "print(list1)\n"
   ]
  },
  {
   "cell_type": "code",
   "execution_count": 52,
   "metadata": {},
   "outputs": [
    {
     "name": "stdout",
     "output_type": "stream",
     "text": [
      "4\n"
     ]
    }
   ],
   "source": [
    "# find the length\n",
    "\n",
    "lst = [10,20,30,40]\n",
    "n = len(lst)\n",
    "print(n)\n"
   ]
  },
  {
   "cell_type": "code",
   "execution_count": 53,
   "metadata": {},
   "outputs": [
    {
     "name": "stdout",
     "output_type": "stream",
     "text": [
      "['apple', 'mango']\n"
     ]
    }
   ],
   "source": [
    "# pop \n",
    "\n",
    "fruits = [\"apple\", \"mango\", \"cherry\"] \n",
    "fruits.pop(2)\n",
    "print(fruits)"
   ]
  },
  {
   "cell_type": "code",
   "execution_count": 54,
   "metadata": {},
   "outputs": [
    {
     "name": "stdout",
     "output_type": "stream",
     "text": [
      "['a', 'c']\n"
     ]
    }
   ],
   "source": [
    "lis = ['a', 'b', 'c']\n",
    "lis.remove(\"b\")\n",
    "print(lis)"
   ]
  },
  {
   "cell_type": "code",
   "execution_count": 55,
   "metadata": {},
   "outputs": [
    {
     "name": "stdout",
     "output_type": "stream",
     "text": [
      "60\n"
     ]
    }
   ],
   "source": [
    "# sum of list\n",
    "\n",
    "list1 = [10, 20, 30]\n",
    "sum = 0\n",
    "for i in list1:\n",
    "    sum+=i\n",
    "print(sum) "
   ]
  },
  {
   "cell_type": "code",
   "execution_count": 56,
   "metadata": {},
   "outputs": [
    {
     "name": "stdout",
     "output_type": "stream",
     "text": [
      "[1, 2, 3, 4, 5]\n"
     ]
    }
   ],
   "source": [
    "# remove dup \n",
    "\n",
    "list1 = [1, 2, 2, 3, 4, 4, 5]\n",
    "new_list = []\n",
    "\n",
    "for i in list1:\n",
    "    if i not in new_list:\n",
    "        new_list.append(i)\n",
    "print(new_list)        \n"
   ]
  },
  {
   "cell_type": "code",
   "execution_count": 57,
   "metadata": {},
   "outputs": [
    {
     "name": "stdout",
     "output_type": "stream",
     "text": [
      "Ture\n"
     ]
    }
   ],
   "source": [
    "# check the given element exist in list or not \n",
    "\n",
    "list1 = [1, 2, 3, 4, 5]\n",
    "ele = 5\n",
    "\n",
    "for i in list1:\n",
    "    if ele in list1:\n",
    "        print('Ture')\n",
    "        break\n",
    "    "
   ]
  },
  {
   "cell_type": "code",
   "execution_count": 58,
   "metadata": {},
   "outputs": [
    {
     "name": "stdout",
     "output_type": "stream",
     "text": [
      "index of 30 is : 2\n"
     ]
    }
   ],
   "source": [
    "# find index of element \n",
    "\n",
    "list1 =[10, 20, 30, 40, 50]\n",
    "ele = 30\n",
    "n = len(list1)\n",
    "for i in range(n):\n",
    "    if list1[i]== ele:\n",
    "        print('index of', ele, 'is :', i)\n",
    "        break"
   ]
  },
  {
   "cell_type": "code",
   "execution_count": 59,
   "metadata": {},
   "outputs": [
    {
     "name": "stdout",
     "output_type": "stream",
     "text": [
      "[1, 2, 3, 4, 5, 6]\n"
     ]
    }
   ],
   "source": [
    "# merge two sorted list into one sorted list. \n",
    "\n",
    "def merge_sorted_lists(list1, list2):\n",
    "    merged_list = []\n",
    "    i = 0\n",
    "    j = 0\n",
    "\n",
    "    while i < len(list1) and j < len(list2):\n",
    "        if list1[i] < list2[j]:\n",
    "            merged_list.append(list1[i])\n",
    "            i += 1\n",
    "        else:\n",
    "            merged_list.append(list2[j])\n",
    "            j += 1\n",
    "\n",
    "    merged_list.extend(list1[i:])\n",
    "    merged_list.extend(list2[j:])\n",
    "\n",
    "    return merged_list\n",
    "\n",
    "# Test the function\n",
    "list1 = [1, 3, 5]\n",
    "list2 = [2, 4, 6]\n",
    "print(merge_sorted_lists(list1, list2))  # Output: [1, 2, 3, 4, 5, 6]\n"
   ]
  },
  {
   "cell_type": "code",
   "execution_count": 60,
   "metadata": {},
   "outputs": [
    {
     "name": "stdout",
     "output_type": "stream",
     "text": [
      "4\n"
     ]
    }
   ],
   "source": [
    "# count the occurrence of element in list \n",
    "\n",
    "list1=  [1, 2, 2, 3, 3, 3, 4, 4, 4, 4]\n",
    "count = 0\n",
    "for i in list1:\n",
    "    if i==4:\n",
    "        count+=1\n",
    "print(count)     \n",
    "\n",
    "\n"
   ]
  },
  {
   "cell_type": "code",
   "execution_count": 61,
   "metadata": {},
   "outputs": [
    {
     "name": "stdout",
     "output_type": "stream",
     "text": [
      "[1, 2, 3, 4, 5]\n"
     ]
    }
   ],
   "source": [
    "# union of two list\n",
    "\n",
    "list1 = [1,2,3]\n",
    "list2 = [3,4,5]\n",
    "\n",
    "union = set(list1) | set(list2)\n",
    "print(list(union))"
   ]
  },
  {
   "cell_type": "code",
   "execution_count": 62,
   "metadata": {},
   "outputs": [
    {
     "name": "stdout",
     "output_type": "stream",
     "text": [
      "True\n",
      "OR\n",
      "True\n"
     ]
    }
   ],
   "source": [
    "# check the list is palindrom or not\n",
    "\n",
    "list1 = [1, 2, 3, 2, 1]\n",
    "n = len(list1)\n",
    "is_palindrome = True\n",
    "\n",
    "for i in range(n // 2):  # Iterate only until the midpoint of the list\n",
    "    if list1[i] != list1[-i - 1]:\n",
    "        is_palindrome = False\n",
    "        break\n",
    "\n",
    "print(is_palindrome)\n",
    "\n",
    "\n",
    "print('OR')\n",
    "\n",
    "if list1==list1[::-1]:\n",
    "    print('True')\n",
    "\n",
    "else:\n",
    "    print('False')"
   ]
  },
  {
   "cell_type": "code",
   "execution_count": null,
   "metadata": {},
   "outputs": [],
   "source": []
  }
 ],
 "metadata": {
  "kernelspec": {
   "display_name": "base",
   "language": "python",
   "name": "python3"
  },
  "language_info": {
   "codemirror_mode": {
    "name": "ipython",
    "version": 3
   },
   "file_extension": ".py",
   "mimetype": "text/x-python",
   "name": "python",
   "nbconvert_exporter": "python",
   "pygments_lexer": "ipython3",
   "version": "3.9.12"
  }
 },
 "nbformat": 4,
 "nbformat_minor": 2
}
