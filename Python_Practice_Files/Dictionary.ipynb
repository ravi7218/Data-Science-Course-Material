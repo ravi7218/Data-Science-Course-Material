{
 "cells": [
  {
   "cell_type": "markdown",
   "metadata": {},
   "source": [
    "# Dictionary Practice"
   ]
  },
  {
   "cell_type": "code",
   "execution_count": 1,
   "metadata": {},
   "outputs": [],
   "source": [
    "# Dictionary is a unordered collection of objects. \n",
    "# It is present the form of keys and vlues"
   ]
  },
  {
   "cell_type": "code",
   "execution_count": 2,
   "metadata": {},
   "outputs": [
    {
     "name": "stdout",
     "output_type": "stream",
     "text": [
      "<class 'dict'>\n"
     ]
    }
   ],
   "source": [
    "# Creating dict\n",
    "\n",
    "dict = {}\n",
    "print(type(dict))"
   ]
  },
  {
   "cell_type": "code",
   "execution_count": 3,
   "metadata": {},
   "outputs": [
    {
     "data": {
      "text/plain": [
       "{}"
      ]
     },
     "execution_count": 3,
     "metadata": {},
     "output_type": "execute_result"
    }
   ],
   "source": [
    "empty_dict = {}\n",
    "empty_dict"
   ]
  },
  {
   "cell_type": "code",
   "execution_count": 4,
   "metadata": {},
   "outputs": [
    {
     "name": "stdout",
     "output_type": "stream",
     "text": [
      "{'name': 'ravi', 'age': 24, 'grade': 44}\n"
     ]
    }
   ],
   "source": [
    "student = {'name': 'ravi', 'age': 24, 'grade': 44}\n",
    "print(student)"
   ]
  },
  {
   "cell_type": "code",
   "execution_count": 7,
   "metadata": {},
   "outputs": [
    {
     "name": "stdout",
     "output_type": "stream",
     "text": [
      "A\n",
      "24\n"
     ]
    }
   ],
   "source": [
    "## accessing the dict element\n",
    "\n",
    "student = {'name': 'ravi', 'age': 24, 'grade': 'A'}\n",
    "print(student['grade'])\n",
    "print(student['age'])\n"
   ]
  },
  {
   "cell_type": "code",
   "execution_count": 9,
   "metadata": {},
   "outputs": [
    {
     "name": "stdout",
     "output_type": "stream",
     "text": [
      "A\n",
      "None\n",
      "Not Available\n"
     ]
    }
   ],
   "source": [
    "# accessing by using get() method\n",
    "\n",
    "print(student.get('grade'))\n",
    "print(student.get('last_name'))\n",
    "print(student.get('last_name', 'Not Available'))\n",
    "\n"
   ]
  },
  {
   "cell_type": "code",
   "execution_count": 10,
   "metadata": {},
   "outputs": [
    {
     "name": "stdout",
     "output_type": "stream",
     "text": [
      "{'name': 'ravi', 'age': 24, 'grade': 'A'}\n"
     ]
    }
   ],
   "source": [
    "# Modifying dict elements \n",
    "# Dict are mutable, so you can update and delete the elemments\n",
    "\n",
    "print(student)"
   ]
  },
  {
   "cell_type": "code",
   "execution_count": null,
   "metadata": {},
   "outputs": [
    {
     "name": "stdout",
     "output_type": "stream",
     "text": [
      "{'name': 'ravi', 'age': 26, 'grade': 'A'}\n",
      "{'name': 'ravi', 'age': 26, 'grade': 'A', 'city': 'chinchani'}\n"
     ]
    }
   ],
   "source": [
    "student['age'] = 26   # updated the existing values\n",
    "print(student)\n",
    "student['city'] = 'chinchani'   # added new key and value\n",
    "print(student)"
   ]
  },
  {
   "cell_type": "code",
   "execution_count": 12,
   "metadata": {},
   "outputs": [
    {
     "name": "stdout",
     "output_type": "stream",
     "text": [
      "{'name': 'ravi', 'age': 26, 'city': 'chinchani'}\n"
     ]
    }
   ],
   "source": [
    "del student['grade']   # delete key and value\n",
    "print(student)"
   ]
  },
  {
   "cell_type": "code",
   "execution_count": 15,
   "metadata": {},
   "outputs": [
    {
     "name": "stdout",
     "output_type": "stream",
     "text": [
      "dict_keys(['name', 'age', 'city'])\n",
      "dict_values(['ravi', 26, 'chinchani'])\n",
      "dict_items([('name', 'ravi'), ('age', 26), ('city', 'chinchani')])\n"
     ]
    }
   ],
   "source": [
    "# Dict methods\n",
    "\n",
    "keys = student.keys()\n",
    "print(keys)\n",
    "\n",
    "values = student.values()\n",
    "print(values)\n",
    "\n",
    "items = student.items()\n",
    "print(items)"
   ]
  },
  {
   "cell_type": "code",
   "execution_count": 17,
   "metadata": {},
   "outputs": [
    {
     "name": "stdout",
     "output_type": "stream",
     "text": [
      "{'name': 'ravi', 'age': 26, 'city': 'chinchani'}\n",
      "{'name': 'ravi', 'age': 26, 'city': 'chinchani'}\n"
     ]
    }
   ],
   "source": [
    "# shallow copy\n",
    "\n",
    "student_copy = student\n",
    "print(student)\n",
    "print(student_copy)"
   ]
  },
  {
   "cell_type": "code",
   "execution_count": 18,
   "metadata": {},
   "outputs": [
    {
     "name": "stdout",
     "output_type": "stream",
     "text": [
      "{'name': 'ravi1', 'age': 26, 'city': 'chinchani'}\n",
      "{'name': 'ravi1', 'age': 26, 'city': 'chinchani'}\n"
     ]
    }
   ],
   "source": [
    "student['name'] = 'ravi1'\n",
    "print(student)\n",
    "print(student_copy)"
   ]
  },
  {
   "cell_type": "code",
   "execution_count": 19,
   "metadata": {},
   "outputs": [
    {
     "name": "stdout",
     "output_type": "stream",
     "text": [
      "{'name': 'ravi1', 'age': 26, 'city': 'chinchani'}\n",
      "{'name': 'ravi1', 'age': 26, 'city': 'chinchani'}\n"
     ]
    }
   ],
   "source": [
    "student_copy1 = student.copy()\n",
    "print(student)\n",
    "print(student_copy)"
   ]
  },
  {
   "cell_type": "code",
   "execution_count": 21,
   "metadata": {},
   "outputs": [
    {
     "name": "stdout",
     "output_type": "stream",
     "text": [
      "{'name': 'ravi2', 'age': 26, 'city': 'chinchani'}\n",
      "{'name': 'ravi1', 'age': 26, 'city': 'chinchani'}\n"
     ]
    }
   ],
   "source": [
    "student['name']= 'ravi2'\n",
    "print(student)\n",
    "print(student_copy1)"
   ]
  },
  {
   "cell_type": "code",
   "execution_count": 22,
   "metadata": {},
   "outputs": [
    {
     "name": "stdout",
     "output_type": "stream",
     "text": [
      "name\n",
      "age\n",
      "city\n"
     ]
    }
   ],
   "source": [
    "# iteration over dict\n",
    "# use loop to iterate the dict, keys and values\n",
    "\n",
    "# iterating over keys\n",
    "for key in student.keys():\n",
    "    print(key)"
   ]
  },
  {
   "cell_type": "code",
   "execution_count": 26,
   "metadata": {},
   "outputs": [
    {
     "name": "stdout",
     "output_type": "stream",
     "text": [
      "ravi2\n",
      "26\n",
      "chinchani\n"
     ]
    }
   ],
   "source": [
    "# iterate  over values\n",
    "\n",
    "for value in student.values():\n",
    "    print(value)"
   ]
  },
  {
   "cell_type": "code",
   "execution_count": 27,
   "metadata": {},
   "outputs": [
    {
     "name": "stdout",
     "output_type": "stream",
     "text": [
      "name ravi2\n",
      "age 26\n",
      "city chinchani\n"
     ]
    }
   ],
   "source": [
    "# iterate over items\n",
    "\n",
    "for key, value in student.items():\n",
    "    print(key, value)\n"
   ]
  },
  {
   "cell_type": "code",
   "execution_count": 28,
   "metadata": {},
   "outputs": [
    {
     "name": "stdout",
     "output_type": "stream",
     "text": [
      "{'student1': {'name': 'ravi', 'age': 24}, 'student2': {'name': 'sham', 'age': 20}}\n"
     ]
    }
   ],
   "source": [
    "# nested dict\n",
    "\n",
    "student = {\n",
    "    'student1': {'name': 'ravi', 'age': 24},\n",
    "    'student2': {'name': 'sham', 'age': 20}\n",
    "}\n",
    "print(student)"
   ]
  },
  {
   "cell_type": "code",
   "execution_count": 30,
   "metadata": {},
   "outputs": [
    {
     "name": "stdout",
     "output_type": "stream",
     "text": [
      "24\n",
      "sham\n"
     ]
    }
   ],
   "source": [
    "## access the nested dict\n",
    "\n",
    "print(student['student1']['age'])\n",
    "print(student['student2']['name'])"
   ]
  },
  {
   "cell_type": "code",
   "execution_count": 32,
   "metadata": {},
   "outputs": [
    {
     "name": "stdout",
     "output_type": "stream",
     "text": [
      "student1 {'name': 'ravi', 'age': 24}\n",
      "name ravi\n",
      "age 24\n",
      "student2 {'name': 'sham', 'age': 20}\n",
      "name sham\n",
      "age 20\n"
     ]
    }
   ],
   "source": [
    "## iterating over nested dict\n",
    "\n",
    "for student_id, student_info in student.items():\n",
    "    print(student_id, student_info)\n",
    "    for key, value in student_info.items():\n",
    "        print(key, value)"
   ]
  },
  {
   "cell_type": "code",
   "execution_count": 33,
   "metadata": {},
   "outputs": [
    {
     "name": "stdout",
     "output_type": "stream",
     "text": [
      "{0: 0, 1: 1, 2: 4, 3: 9, 4: 16}\n"
     ]
    }
   ],
   "source": [
    "# dict comprehension\n",
    "\n",
    "squares = {x:x**2 for x in range(5)}\n",
    "print(squares)"
   ]
  },
  {
   "cell_type": "code",
   "execution_count": 36,
   "metadata": {},
   "outputs": [
    {
     "name": "stdout",
     "output_type": "stream",
     "text": [
      "{0: 0, 2: 4, 4: 16, 6: 36, 8: 64}\n"
     ]
    }
   ],
   "source": [
    "# conditional dict comprehension\n",
    "\n",
    "even = {i:i**2 for i in range(10) if i%2==0}\n",
    "print(even)"
   ]
  },
  {
   "cell_type": "code",
   "execution_count": 37,
   "metadata": {},
   "outputs": [
    {
     "name": "stdout",
     "output_type": "stream",
     "text": [
      "{1: 1, 2: 2, 3: 1, 4: 2, 5: 2, 6: 2, 7: 2, 8: 1, 9: 3}\n"
     ]
    }
   ],
   "source": [
    "# count the frequencies of element in list\n",
    "\n",
    "numbers = [1,2,2,3,4,5,6,6,7,7,4,5,8,9,9,9]\n",
    "dict1 = {}\n",
    "\n",
    "for i in numbers:\n",
    "    if i in dict1:\n",
    "        dict1[i]+=1\n",
    "    else:\n",
    "        dict1[i]=1\n",
    "print(dict1)            \n"
   ]
  },
  {
   "cell_type": "code",
   "execution_count": 38,
   "metadata": {},
   "outputs": [
    {
     "name": "stdout",
     "output_type": "stream",
     "text": [
      "{'a': 1, 'b': 2, 'c': 3, 'd': 4}\n"
     ]
    }
   ],
   "source": [
    "# merge two dict in one\n",
    "\n",
    "dict1 = {'a':1, 'b':2}\n",
    "dict2 = {'c':3, 'd':4}\n",
    "\n",
    "merge_dict = {**dict1, **dict2}\n",
    "print(merge_dict)"
   ]
  },
  {
   "cell_type": "code",
   "execution_count": 39,
   "metadata": {},
   "outputs": [
    {
     "name": "stdout",
     "output_type": "stream",
     "text": [
      "{'ten': 10, 'twenty': 20, 'thirty': 30}\n"
     ]
    }
   ],
   "source": [
    "keys = ['ten','twenty', 'thirty']\n",
    "values = [10,20,30]\n",
    "dict1 = {}\n",
    "for i in range(len(keys)):\n",
    "    dict1[keys[i]]=values[i]\n",
    "print(dict1)  "
   ]
  },
  {
   "cell_type": "code",
   "execution_count": null,
   "metadata": {},
   "outputs": [
    {
     "name": "stdout",
     "output_type": "stream",
     "text": [
      "{'kelly': {'designation': 'developer', 'salary': 8000}, 'emma': {'designation': 'developer', 'salary': 8000}}\n"
     ]
    }
   ],
   "source": [
    "# initiliaze dictionary with default values. \n",
    "# logic 1 \n",
    "employees = ['kelly', 'emma']\n",
    "defaults = {'designation': 'developer', 'salary':8000}\n",
    "\n",
    "result =dict.fromkeys(employees,defaults)\n",
    "print(result)"
   ]
  },
  {
   "cell_type": "code",
   "execution_count": 41,
   "metadata": {},
   "outputs": [
    {
     "data": {
      "text/plain": [
       "{'id': 101,\n",
       " 'name': 'ravi',\n",
       " 'phone': 7218110032,\n",
       " 'city': 'sangli',\n",
       " 'email': 'ravi@123.gmail'}"
      ]
     },
     "execution_count": 41,
     "metadata": {},
     "output_type": "execute_result"
    }
   ],
   "source": [
    "# Write a Python program to merge two dictionaries.\n",
    "\n",
    "dict1 = {'id': 101, 'name':'ravi', 'phone':7218110032, 'city': 'sangli'}\n",
    "dict2 = {'email': 'ravi@123.gmail'}\n",
    "\n",
    "dict1.update(dict2)\n",
    "dict1"
   ]
  },
  {
   "cell_type": "code",
   "execution_count": 43,
   "metadata": {},
   "outputs": [
    {
     "name": "stdout",
     "output_type": "stream",
     "text": [
      "all values are unique\n"
     ]
    }
   ],
   "source": [
    "# Write a Python program to check if all values in a dictionary are unique.\n",
    "\n",
    "dict1 = {'id': 101, 'name':'ravi', 'phone':7218110032, 'city': 'sangli'}\n",
    "\n",
    "if len(set(dict1.values()))==len(dict1): \n",
    "    print('all values are unique')\n",
    "else:\n",
    "    print('not all values are unique')"
   ]
  },
  {
   "cell_type": "code",
   "execution_count": 49,
   "metadata": {},
   "outputs": [
    {
     "name": "stdout",
     "output_type": "stream",
     "text": [
      "{'a': 1, 'd': 5}\n"
     ]
    }
   ],
   "source": [
    "# Write a Python program to find the difference between two dictionaries.\n",
    "\n",
    "def dict_diff(dict1, dict2):\n",
    "    diff = {}\n",
    "    for key in dict1:\n",
    "        if key not in dict2:\n",
    "            diff[key]=dict1[key]\n",
    "\n",
    "    for key in dict2:\n",
    "        if key not in dict1:\n",
    "            diff[key]= dict2[key]\n",
    "    return diff\n",
    "dict1 = {'a':1, 'b':2, 'c':3}\n",
    "dict2 = {'b':2, 'c':4, 'd':5}\n",
    "\n",
    "difference = dict_diff(dict1, dict2)\n",
    "print(difference)"
   ]
  },
  {
   "cell_type": "code",
   "execution_count": 47,
   "metadata": {},
   "outputs": [
    {
     "name": "stdout",
     "output_type": "stream",
     "text": [
      "[('a', 1), ('b', 2), ('c', 3)]\n"
     ]
    }
   ],
   "source": [
    "# Write a Python program to convert a dictionary to a list of tuples.\n",
    "\n",
    "dict1 = {'a':1, 'b':2, 'c':3}\n",
    "list_of_tuple  = list(dict1.items())\n",
    "print(list_of_tuple)"
   ]
  },
  {
   "cell_type": "code",
   "execution_count": null,
   "metadata": {},
   "outputs": [],
   "source": []
  }
 ],
 "metadata": {
  "kernelspec": {
   "display_name": "base",
   "language": "python",
   "name": "python3"
  },
  "language_info": {
   "codemirror_mode": {
    "name": "ipython",
    "version": 3
   },
   "file_extension": ".py",
   "mimetype": "text/x-python",
   "name": "python",
   "nbconvert_exporter": "python",
   "pygments_lexer": "ipython3",
   "version": "3.9.12"
  }
 },
 "nbformat": 4,
 "nbformat_minor": 2
}
