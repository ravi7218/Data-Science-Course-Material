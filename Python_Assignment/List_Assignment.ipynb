{
 "cells": [
  {
   "cell_type": "markdown",
   "metadata": {},
   "source": [
    "# list Assignment"
   ]
  },
  {
   "cell_type": "markdown",
   "metadata": {},
   "source": [
    "# Module 3: Data Structures Assignments\n",
    "## Lesson 3.1: Lists\n",
    "### Assignment 1: Creating and Accessing Lists\n",
    "\n",
    "Create a list of the first 20 positive integers. Print the list.\n",
    "\n",
    "### Assignment 2: Accessing List Elements\n",
    "\n",
    "Print the first, middle, and last elements of the list created in Assignment 1.\n",
    "\n",
    "### Assignment 3: List Slicing\n",
    "\n",
    "Print the first five elements, the last five elements, and the elements from index 5 to 15 of the list created in Assignment 1.\n",
    "\n",
    "### Assignment 4: List Comprehensions\n",
    "\n",
    "Create a new list containing the squares of the first 10 positive integers using a list comprehension. Print the new list.\n",
    "\n",
    "### Assignment 5: Filtering Lists\n",
    "\n",
    "Create a new list containing only the even numbers from the list created in Assignment 1 using a list comprehension. Print the new list.\n",
    "\n",
    "### Assignment 6: List Methods\n",
    "\n",
    "Create a list of random numbers and sort it in ascending and descending order. Remove the duplicates from the list and print the modified list.\n",
    "\n",
    "### Assignment 7: Nested Lists\n",
    "\n",
    "Create a nested list representing a 3x3 matrix and print the matrix. Access and print the element at the second row and third column.\n",
    "\n",
    "### Assignment 8: List of Dictionaries\n",
    "\n",
    "Create a list of dictionaries where each dictionary represents a student with keys 'name' and 'score'. Sort the list of dictionaries by the 'score' in descending order and print the sorted list.\n",
    "\n",
    "### Assignment 9: Matrix Transposition\n",
    "\n",
    "Write a function that takes a 3x3 matrix (nested list) as input and returns its transpose. Print the original and transposed matrices.\n",
    "\n",
    "### Assignment 10: Flattening a Nested List\n",
    "\n",
    "Write a function that takes a nested list and flattens it into a single list. Print the original and flattened lists.\n",
    "\n",
    "### Assignment 11: List Manipulation\n",
    "\n",
    "Create a list of the first 10 positive integers. Remove the elements at indices 2, 4, and 6, and insert the element '99' at index 5. Print the modified list.\n",
    "\n",
    "### Assignment 12: List Zipping\n",
    "\n",
    "Create two lists of the same length. Use the `zip` function to combine these lists into a list of tuples and print the result.\n",
    "\n",
    "### Assignment 13: List Reversal\n",
    "\n",
    "Write a function that takes a list and returns a new list with the elements in reverse order. Print the original and reversed lists.\n",
    "\n",
    "### Assignment 14: List Rotation\n",
    "\n",
    "Write a function that rotates a list by n positions. Print the original and rotated lists.\n",
    "\n",
    "### Assignment 15: List Intersection\n",
    "\n",
    "Write a function that takes two lists and returns a new list containing only the elements that are present in both lists. Print the intersected list."
   ]
  },
  {
   "cell_type": "code",
   "execution_count": 1,
   "metadata": {},
   "outputs": [
    {
     "name": "stdout",
     "output_type": "stream",
     "text": [
      "[1, 2, 3, 4, 5, 6, 7, 8, 9, 10, 11, 12, 13, 14, 15, 16, 17, 18, 19, 20]\n"
     ]
    }
   ],
   "source": [
    "# Assignment 1\n",
    "\n",
    "# Create a list of the first 20 positive integers. Print the list.\n",
    "\n",
    "list1 = []\n",
    "for i in range(1,21):\n",
    "    list1.append(i)\n",
    "print(list1)"
   ]
  },
  {
   "cell_type": "code",
   "execution_count": 4,
   "metadata": {},
   "outputs": [
    {
     "name": "stdout",
     "output_type": "stream",
     "text": [
      "first element: 1\n",
      "middle element: 10\n",
      "last element: 20\n"
     ]
    }
   ],
   "source": [
    "# Assignment 2\n",
    "\n",
    "# Print the first, middle, and last elements of the list created in Assignment 1.\n",
    "\n",
    "print('first element:',list1[0])\n",
    "print('middle element:', len(list1)//2)\n",
    "print('last element:', list1[-1])"
   ]
  },
  {
   "cell_type": "code",
   "execution_count": 8,
   "metadata": {},
   "outputs": [
    {
     "name": "stdout",
     "output_type": "stream",
     "text": [
      "first five element:  [1, 2, 3, 4, 5]\n",
      "last five element:  [16, 17, 18, 19, 20]\n",
      "element for 5 to 15 : [6, 7, 8, 9, 10, 11, 12, 13, 14, 15]\n"
     ]
    }
   ],
   "source": [
    "# Assignment 3\n",
    "\n",
    "# Print the first five elements, the last five elements, and the elements from index 5 to 15 of the list created in Assignment 1.\n",
    "\n",
    "print('first five element: ', list1[:5])\n",
    "print('last five element: ', list1[-5:])\n",
    "print('element for 5 to 15 :', list1[5:15])"
   ]
  },
  {
   "cell_type": "code",
   "execution_count": 10,
   "metadata": {},
   "outputs": [
    {
     "name": "stdout",
     "output_type": "stream",
     "text": [
      "[1, 4, 9, 16, 25, 36, 49, 64, 81, 100]\n"
     ]
    }
   ],
   "source": [
    "# Assignment 4\n",
    "\n",
    "# Create a new list containing the squares of the first 10 positive integers using a list comprehension. Print the new list.\n",
    "\n",
    "square = [i**2 for i in range(1,11)]\n",
    "print(square)"
   ]
  },
  {
   "cell_type": "code",
   "execution_count": 11,
   "metadata": {},
   "outputs": [
    {
     "name": "stdout",
     "output_type": "stream",
     "text": [
      "[2, 4, 6, 8, 10, 12, 14, 16, 18, 20]\n"
     ]
    }
   ],
   "source": [
    "# Assignment 5 \n",
    "\n",
    "# Create a new list containing only the even numbers from the list created in Assignment 1 using a list comprehension.\n",
    "#  Print the new list.\n",
    "\n",
    "even_list = [i for i in list1 if i%2==0]\n",
    "print(even_list)\n"
   ]
  },
  {
   "cell_type": "code",
   "execution_count": 16,
   "metadata": {},
   "outputs": [
    {
     "name": "stdout",
     "output_type": "stream",
     "text": [
      "original list: [1, 5, 5, 5, 12, 15, 18, 19, 20, 20, 22, 22, 24, 27, 28]\n",
      "uniqure list: {1, 5, 12, 15, 18, 19, 20, 22, 24, 27, 28}\n"
     ]
    }
   ],
   "source": [
    "# Assignment 6 \n",
    "\n",
    "# Create a list of random numbers and sort it in ascending and descending order. \n",
    "# Remove the duplicates from the list and print the modified list.\n",
    "\n",
    "import random\n",
    "list2 = []\n",
    "for i in range(15):\n",
    "    random_nums = random.randint(1, 30)\n",
    "    list2.append(random_nums)\n",
    "\n",
    "list2.sort()\n",
    "print('original list:', list2)\n",
    "\n",
    "uniqure_list = set(list2)\n",
    "print('uniqure list:', uniqure_list)\n"
   ]
  },
  {
   "cell_type": "code",
   "execution_count": 17,
   "metadata": {},
   "outputs": [
    {
     "name": "stdout",
     "output_type": "stream",
     "text": [
      "3x3 matrix:\n",
      "[1, 2, 3]\n",
      "[4, 5, 6]\n",
      "[7, 8, 9]\n",
      "Element at second row and third column: 6\n"
     ]
    }
   ],
   "source": [
    "# Assignment 7 \n",
    "\n",
    "# Create a nested list representing a 3x3 matrix and print the matrix. \n",
    "# Access and print the element at the second row and third column.\n",
    "\n",
    "matrix = [\n",
    "    [1, 2, 3],  \n",
    "    [4, 5, 6],   \n",
    "    [7, 8, 9]    \n",
    "]\n",
    "\n",
    "print(\"3x3 matrix:\")\n",
    "for row in matrix:\n",
    "    print(row)\n",
    "\n",
    "element = matrix[1][2]\n",
    "print(\"Element at second row and third column:\", element)\n",
    "\n"
   ]
  },
  {
   "cell_type": "code",
   "execution_count": null,
   "metadata": {},
   "outputs": [],
   "source": [
    "# Assignment 8 \n",
    "\n",
    "# Create a list of dictionaries where each dictionary represents a student with keys 'name' and 'score'. \n",
    "# Sort the list of dictionaries by the 'score' in descending order and print the sorted list.\n",
    "\n",
    "\n"
   ]
  },
  {
   "cell_type": "code",
   "execution_count": null,
   "metadata": {},
   "outputs": [
    {
     "name": "stdout",
     "output_type": "stream",
     "text": [
      "Original Nested List: [[1, 2, [3, 4]], [5, 6], 7, [8, [9, 10]]]\n",
      "Flattened List: [1, 2, 3, 4, 5, 6, 7, 8, 9, 10]\n"
     ]
    }
   ],
   "source": [
    "# Assignment 10 \n",
    "\n",
    "\n",
    "def flatten_list(nested_list):\n",
    "    flattened = []\n",
    "    for element in nested_list:\n",
    "        if isinstance(element, list):  \n",
    "            flattened.extend(flatten_list(element))  \n",
    "        else:\n",
    "            flattened.append(element)  \n",
    "    return flattened\n",
    "\n",
    "nested_list = [[1, 2, [3, 4]], [5, 6], 7, [8, [9, 10]]]\n",
    "\n",
    "flattened_list = flatten_list(nested_list)\n",
    "\n",
    "print(\"Original Nested List:\", nested_list)\n",
    "print(\"Flattened List:\", flattened_list)\n"
   ]
  },
  {
   "cell_type": "code",
   "execution_count": 19,
   "metadata": {},
   "outputs": [
    {
     "name": "stdout",
     "output_type": "stream",
     "text": [
      "Original List: [1, 2, 3, 4, 5, 6, 7, 8, 9, 10]\n",
      "List after removing elements : [1, 2, 4, 6, 8, 9, 10]\n",
      "List after inserting '99' at index 5: [1, 2, 4, 6, 8, 99, 9, 10]\n"
     ]
    }
   ],
   "source": [
    "# Assignment 11 \n",
    "\n",
    "numbers = list(range(1, 11))\n",
    "print(\"Original List:\", numbers)\n",
    "\n",
    "del numbers[6]  \n",
    "del numbers[4] \n",
    "del numbers[2] \n",
    "print(\"List after removing elements :\", numbers)\n",
    "\n",
    "numbers.insert(5, 99)\n",
    "print(\"List after inserting '99' at index 5:\", numbers)\n"
   ]
  },
  {
   "cell_type": "code",
   "execution_count": 25,
   "metadata": {},
   "outputs": [
    {
     "name": "stdout",
     "output_type": "stream",
     "text": [
      "original list : [0, 1, 2, 3, 4, 5, 6, 7, 8, 9]\n",
      "reverse list : [9, 8, 7, 6, 5, 4, 3, 2, 1, 0]\n"
     ]
    }
   ],
   "source": [
    "# Assignment 12 \n",
    "\n",
    "# Write a function that takes a list and returns a new list with the elements in reverse order. \n",
    "# Print the original and reversed lists.\n",
    "\n",
    "def Reverse_list():\n",
    "    list4 = [i for i in range(10)]\n",
    "    print('original list :', list4)\n",
    "    reverse_list = list4[::-1]\n",
    "    print('reverse list :', reverse_list)\n",
    "Reverse_list()    \n",
    "\n"
   ]
  },
  {
   "cell_type": "code",
   "execution_count": 26,
   "metadata": {},
   "outputs": [
    {
     "name": "stdout",
     "output_type": "stream",
     "text": [
      "Intersected List: [4, 5]\n"
     ]
    }
   ],
   "source": [
    "# Assignment 15\n",
    "\n",
    "def intersect_lists(list1, list2):\n",
    "    intersection = list(set(list1) & set(list2))\n",
    "    return intersection\n",
    "\n",
    "list1 = [1, 2, 3, 4, 5]\n",
    "list2 = [4, 5, 6, 7, 8]\n",
    "\n",
    "intersected_list = intersect_lists(list1, list2)\n",
    "print('Intersected List:', intersected_list)\n"
   ]
  },
  {
   "cell_type": "code",
   "execution_count": null,
   "metadata": {},
   "outputs": [],
   "source": []
  },
  {
   "cell_type": "code",
   "execution_count": null,
   "metadata": {},
   "outputs": [],
   "source": []
  },
  {
   "cell_type": "code",
   "execution_count": null,
   "metadata": {},
   "outputs": [],
   "source": []
  },
  {
   "cell_type": "code",
   "execution_count": null,
   "metadata": {},
   "outputs": [],
   "source": []
  },
  {
   "cell_type": "code",
   "execution_count": null,
   "metadata": {},
   "outputs": [],
   "source": []
  },
  {
   "cell_type": "code",
   "execution_count": null,
   "metadata": {},
   "outputs": [],
   "source": []
  },
  {
   "cell_type": "code",
   "execution_count": null,
   "metadata": {},
   "outputs": [],
   "source": []
  },
  {
   "cell_type": "code",
   "execution_count": null,
   "metadata": {},
   "outputs": [],
   "source": []
  },
  {
   "cell_type": "code",
   "execution_count": null,
   "metadata": {},
   "outputs": [],
   "source": []
  }
 ],
 "metadata": {
  "kernelspec": {
   "display_name": "base",
   "language": "python",
   "name": "python3"
  },
  "language_info": {
   "codemirror_mode": {
    "name": "ipython",
    "version": 3
   },
   "file_extension": ".py",
   "mimetype": "text/x-python",
   "name": "python",
   "nbconvert_exporter": "python",
   "pygments_lexer": "ipython3",
   "version": "3.9.12"
  }
 },
 "nbformat": 4,
 "nbformat_minor": 2
}
