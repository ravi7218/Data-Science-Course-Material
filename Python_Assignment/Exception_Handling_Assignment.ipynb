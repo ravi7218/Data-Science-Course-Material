{
 "cells": [
  {
   "cell_type": "markdown",
   "metadata": {},
   "source": [
    "### Assignment 1: Handling Division by Zero\n",
    "\n",
    "Write a function that takes two integers as input and returns their division. Use try, except, and finally blocks to handle division by zero and print an appropriate message.\n",
    "\n",
    "### Assignment 2: File Reading with Exception Handling\n",
    "\n",
    "Write a function that reads the contents of a file named `data.txt`. Use try, except, and finally blocks to handle file not found errors and ensure the file is properly closed.\n",
    "\n",
    "### Assignment 3: Handling Multiple Exceptions\n",
    "\n",
    "Write a function that takes a list of integers and returns their sum. Use try, except, and finally blocks to handle TypeError if a non-integer value is encountered and print an appropriate message.\n",
    "\n",
    "### Assignment 4: Exception Handling in User Input\n",
    "\n",
    "Write a function that prompts the user to enter an integer. Use try, except, and finally blocks to handle ValueError if the user enters a non-integer value and print an appropriate message.\n",
    "\n",
    "### Assignment 5: Exception Handling in Dictionary Access\n",
    "\n",
    "Write a function that takes a dictionary and a key as input and returns the value associated with the key. Use try, except, and finally blocks to handle KeyError if the key is not found in the dictionary and print an appropriate message.\n",
    "\n",
    "### Assignment 6: Nested Exception Handling\n",
    "\n",
    "Write a function that performs nested exception handling. It should first attempt to convert a string to an integer, and then attempt to divide by that integer. Use nested try, except, and finally blocks to handle ValueError and ZeroDivisionError and print appropriate messages.\n",
    "\n",
    "### Assignment 7: Exception Handling in List Operations\n",
    "\n",
    "Write a function that takes a list and an index as input and returns the element at the given index. Use try, except, and finally blocks to handle IndexError if the index is out of range and print an appropriate message.\n",
    "\n",
    "### Assignment 8: Exception Handling in Network Operations\n",
    "\n",
    "Write a function that attempts to open a URL and read its contents. Use try, except, and finally blocks to handle network-related errors and print an appropriate message.\n",
    "\n",
    "### Assignment 9: Exception Handling in JSON Parsing\n",
    "\n",
    "Write a function that attempts to parse a JSON string. Use try, except, and finally blocks to handle JSONDecodeError if the string is not a valid JSON and print an appropriate message.\n",
    "\n",
    "### Assignment 10: Custom Exception Handling\n",
    "\n",
    "Define a custom exception named `NegativeNumberError`. Write a function that raises this exception if a negative number is encountered in a list. Use try, except, and finally blocks to handle the custom exception and print an appropriate message.\n",
    "\n",
    "### Assignment 11: Exception Handling in Function Calls\n",
    "\n",
    "Write a function that calls another function which may raise an exception. Use try, except, and finally blocks to handle the exception and print an appropriate message.\n",
    "\n",
    "### Assignment 12: Exception Handling in Class Methods\n",
    "\n",
    "Define a class with a method that performs a division operation. Use try, except, and finally blocks within the method to handle division by zero and print an appropriate message.\n",
    "\n",
    "### Assignment 13: Exception Handling in Data Conversion\n",
    "\n",
    "Write a function that takes a list of strings and converts them to integers. Use try, except, and finally blocks to handle ValueError if a string cannot be converted and print an appropriate message.\n",
    "\n",
    "### Assignment 14: Exception Handling in List Comprehensions\n",
    "\n",
    "Write a function that uses a list comprehension to convert a list of strings to integers. Use try, except, and finally blocks within the list comprehension to handle ValueError and print an appropriate message.\n",
    "\n",
    "### Assignment 15: Exception Handling in File Writing\n",
    "\n",
    "Write a function that attempts to write a list of strings to a file. Use try, except, and finally blocks to handle IOError and ensure the file is properly closed."
   ]
  },
  {
   "cell_type": "markdown",
   "metadata": {},
   "source": []
  },
  {
   "cell_type": "code",
   "execution_count": 3,
   "metadata": {},
   "outputs": [
    {
     "name": "stdout",
     "output_type": "stream",
     "text": [
      "the result is : 3.0\n",
      "Exccution complete\n",
      "None\n"
     ]
    }
   ],
   "source": [
    "# Assignement 1 \n",
    "\n",
    "# Write a function that takes two integers as input and returns their division. Use try, except, and finally blocks\n",
    "#  to handle division by zero and print an appropriate message.\n",
    "\n",
    "def division_function(a,b):\n",
    "\n",
    "    try:\n",
    "        result = a/b\n",
    "    except ZeroDivisionError:\n",
    "        print('Please enter number greater than zero')\n",
    "    else:\n",
    "        print('the result is :', result)\n",
    "    finally:\n",
    "        print('Exccution complete')\n",
    "\n",
    "a = int(input('enter a number: '))\n",
    "b = int(input('enter a number: '))\n",
    "\n",
    "print(division_function(a,b))\n"
   ]
  },
  {
   "cell_type": "code",
   "execution_count": 5,
   "metadata": {},
   "outputs": [
    {
     "name": "stdout",
     "output_type": "stream",
     "text": [
      "file not exist\n",
      "None\n"
     ]
    }
   ],
   "source": [
    "# Assignment 2 \n",
    "\n",
    "# Write a function that reads the contents of a file named `data.txt`. Use try, except, and finally \n",
    "# blocks to handle file not found errors and ensure the file is properly closed.\n",
    "\n",
    "def read_file(file_path):\n",
    "\n",
    "    try: \n",
    "        file = open(file_path, 'r')\n",
    "        content = file.read()\n",
    "        print(content)\n",
    "    except FileNotFoundError:\n",
    "        print('file not exist')\n",
    "\n",
    "file_path = 'data.txt'\n",
    "print(read_file(file_path))"
   ]
  },
  {
   "cell_type": "code",
   "execution_count": 7,
   "metadata": {},
   "outputs": [
    {
     "name": "stdout",
     "output_type": "stream",
     "text": [
      "All element in the list must be integers\n",
      "execution is complete\n",
      "None\n"
     ]
    }
   ],
   "source": [
    "# Assignment 3 \n",
    "\n",
    "# Write a function that takes a list of integers and returns their sum. Use try, except, and finally blocks to\n",
    "#  handle TypeError if a non-integer value is encountered and print an appropriate message.\n",
    "\n",
    "def sum_of_integers(lst):\n",
    "\n",
    "    try:\n",
    "        return sum(lst)\n",
    "    except TypeError:\n",
    "        print('All element in the list must be integers')\n",
    "    finally:\n",
    "        print('execution is complete')\n",
    "\n",
    "lst = [1,2,3,4,'a']   \n",
    "\n",
    "print(sum_of_integers(lst))\n",
    "\n",
    "\n"
   ]
  },
  {
   "cell_type": "code",
   "execution_count": 8,
   "metadata": {},
   "outputs": [
    {
     "name": "stdout",
     "output_type": "stream",
     "text": [
      "Execution of get_integer completed.\n",
      "32\n"
     ]
    }
   ],
   "source": [
    "# Assignment 4 \n",
    "\n",
    "# Write a function that prompts the user to enter an integer. Use try, except, and finally \n",
    "# blocks to handle ValueError if the user enters a non-integer value and print an appropriate message.\n",
    "\n",
    "\n",
    "def get_integer():\n",
    "    try:\n",
    "        user_input = int(input(\"Enter an integer: \"))\n",
    "        return user_input\n",
    "    except ValueError:\n",
    "        print(\"That's not a valid integer.\")\n",
    "        return None\n",
    "    finally:\n",
    "        print(\"Execution of get_integer completed.\")\n",
    "\n",
    "print(get_integer())\n"
   ]
  },
  {
   "cell_type": "code",
   "execution_count": null,
   "metadata": {},
   "outputs": [
    {
     "name": "stdout",
     "output_type": "stream",
     "text": [
      "Key 'c' not found in the dictionary.\n",
      "Execution of get_value completed.\n",
      "None\n"
     ]
    }
   ],
   "source": [
    "# Assignment 5 \n",
    "\n",
    "# Write a function that takes a dictionary and a key as input and returns the value\n",
    "#  associated with the key. Use try, except, and finally blocks to handle KeyError if the key is not found in the dictionary and print an appropriate message.\n",
    "\n",
    "\n",
    "def get_value(dictionary, key):\n",
    "    try:\n",
    "        return dictionary[key]\n",
    "    except KeyError:\n",
    "        print(f\"Key '{key}' not found in the dictionary.\")\n",
    "        return None\n",
    "    finally:\n",
    "        print(\"Execution of get_value completed.\")\n",
    "\n",
    "dictionary = {'a': 1, 'b': 2}\n",
    "print(get_value(dictionary, 'c'))\n"
   ]
  },
  {
   "cell_type": "code",
   "execution_count": 10,
   "metadata": {},
   "outputs": [
    {
     "name": "stdout",
     "output_type": "stream",
     "text": [
      "Cannot convert the input to an integer.\n",
      "Execution of nested_exception_handling completed.\n",
      "Result: 1.0\n",
      "Execution of nested_exception_handling completed.\n"
     ]
    }
   ],
   "source": [
    "# Assignment 6 \n",
    "\n",
    "# Write a function that performs nested exception handling. It should first attempt \n",
    "# to convert a string to an integer, and then attempt to divide by that integer. Use nested try, except, and finally blocks to handle ValueError and ZeroDivisionError and print appropriate messages.\n",
    "\n",
    "def nested_exception_handling(value, divisor):\n",
    "    try:\n",
    "        try:\n",
    "            num = int(value)\n",
    "            result = 10 / num\n",
    "            print(f\"Result: {result}\")\n",
    "        except ValueError:\n",
    "            print(\"Cannot convert the input to an integer.\")\n",
    "        except ZeroDivisionError:\n",
    "            print(\"Division by zero is not allowed.\")\n",
    "    finally:\n",
    "        print(\"Execution of nested_exception_handling completed.\")\n",
    "\n",
    "nested_exception_handling(\"abc\", 0)\n",
    "nested_exception_handling(\"10\", 0)\n",
    "\n"
   ]
  },
  {
   "cell_type": "code",
   "execution_count": 12,
   "metadata": {},
   "outputs": [
    {
     "name": "stdout",
     "output_type": "stream",
     "text": [
      "Index out of range.\n",
      "Execution of get_element completed.\n",
      "None\n"
     ]
    }
   ],
   "source": [
    "# Assignment 7 \n",
    "\n",
    "# Write a function that takes a list and an index as input and returns the element at the given index.\n",
    "#  Use try, except, and finally blocks to handle IndexError if the index is out of range and print an appropriate message.\n",
    "\n",
    "def get_element(lst, index):\n",
    "    try:\n",
    "        return lst[index]\n",
    "    except IndexError:\n",
    "        print(\"Index out of range.\")\n",
    "        return None\n",
    "    finally:\n",
    "        print(\"Execution of get_element completed.\")\n",
    "\n",
    "lst = [1, 2, 3]\n",
    "print(get_element(lst, 5))\n",
    "\n"
   ]
  },
  {
   "cell_type": "code",
   "execution_count": 13,
   "metadata": {},
   "outputs": [
    {
     "name": "stdout",
     "output_type": "stream",
     "text": [
      "One or more strings could not be converted to integers.\n",
      "Execution of convert_to_integers completed.\n",
      "None\n"
     ]
    }
   ],
   "source": [
    "# Assignment 13 \n",
    "\n",
    "# Define a custom exception named `NegativeNumberError`. Write a function that raises this exception if a negative number \n",
    "# is encountered in a list. Use try, except, and finally blocks to handle the custom exception and print an appropriate message.\n",
    "\n",
    "\n",
    "def convert_to_integers(strings):\n",
    "    converted = []\n",
    "    try:\n",
    "        for string in strings:\n",
    "            converted.append(int(string))\n",
    "    except ValueError:\n",
    "        print(\"One or more strings could not be converted to integers.\")\n",
    "        return None\n",
    "    finally:\n",
    "        print(\"Execution of convert_to_integers completed.\")\n",
    "\n",
    "print(convert_to_integers([\"1\", \"2\", \"three\"]))\n"
   ]
  },
  {
   "cell_type": "code",
   "execution_count": 14,
   "metadata": {},
   "outputs": [
    {
     "name": "stdout",
     "output_type": "stream",
     "text": [
      "One or more strings could not be converted to integers.\n",
      "Execution of convert_to_integers completed.\n",
      "None\n"
     ]
    }
   ],
   "source": [
    "# Assignment 14 \n",
    "\n",
    "\n",
    "def convert_to_integers(strings):\n",
    "    try:\n",
    "        converted = [int(string) for string in strings]\n",
    "        return converted\n",
    "    except ValueError:\n",
    "        print(\"One or more strings could not be converted to integers.\")\n",
    "        return None\n",
    "    finally:\n",
    "        print(\"Execution of convert_to_integers completed.\")\n",
    "\n",
    "print(convert_to_integers([\"1\", \"2\", \"three\"]))\n"
   ]
  }
 ],
 "metadata": {
  "kernelspec": {
   "display_name": "base",
   "language": "python",
   "name": "python3"
  },
  "language_info": {
   "codemirror_mode": {
    "name": "ipython",
    "version": 3
   },
   "file_extension": ".py",
   "mimetype": "text/x-python",
   "name": "python",
   "nbconvert_exporter": "python",
   "pygments_lexer": "ipython3",
   "version": "3.9.12"
  }
 },
 "nbformat": 4,
 "nbformat_minor": 2
}
