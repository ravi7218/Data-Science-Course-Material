{
 "cells": [
  {
   "cell_type": "markdown",
   "metadata": {},
   "source": [
    "# Module 3: Data Structures Assignments\n",
    "## Lesson 3.3: Sets\n",
    "### Assignment 1: Creating and Accessing Sets\n",
    "\n",
    "Create a set with the first 10 positive integers. Print the set.\n",
    "\n",
    "### Assignment 2: Adding and Removing Elements\n",
    "\n",
    "Add the number 11 to the set created in Assignment 1. Then remove the number 1 from the set. Print the modified set.\n",
    "\n",
    "### Assignment 3: Set Operations\n",
    "\n",
    "Create two sets: one with the first 5 positive integers and another with the first 5 even integers. Perform and print the results of union, intersection, difference, and symmetric difference operations on these sets.\n",
    "\n",
    "### Assignment 4: Set Comprehensions\n",
    "\n",
    "Create a new set containing the squares of the first 10 positive integers using a set comprehension. Print the new set.\n",
    "\n",
    "### Assignment 5: Filtering Sets\n",
    "\n",
    "Create a new set containing only the even numbers from the set created in Assignment 1 using a set comprehension. Print the new set.\n",
    "\n",
    "### Assignment 6: Set Methods\n",
    "\n",
    "Create a set with duplicate elements and remove the duplicates using set methods. Print the modified set.\n",
    "\n",
    "### Assignment 7: Subsets and Supersets\n",
    "\n",
    "Create two sets: one with the first 5 positive integers and another with the first 3 positive integers. Check if the second set is a subset of the first set and if the first set is a superset of the second set. Print the results.\n",
    "\n",
    "### Assignment 8: Frozenset\n",
    "\n",
    "Create a frozenset with the first 5 positive integers. Print the frozenset.\n",
    "\n",
    "### Assignment 9: Set and List Conversion\n",
    "\n",
    "Create a set with the first 5 positive integers. Convert it to a list, append the number 6, and convert it back to a set. Print the resulting set.\n",
    "\n",
    "### Assignment 10: Set and Dictionary\n",
    "\n",
    "Create a dictionary with set keys and integer values. Print the dictionary.\n",
    "\n",
    "### Assignment 11: Iterating Over Sets\n",
    "\n",
    "Create a set and iterate over the elements, printing each element.\n",
    "\n",
    "### Assignment 12: Removing Elements from Sets\n",
    "\n",
    "Create a set and remove elements from it until it is empty. Print the set after each removal.\n",
    "\n",
    "### Assignment 13: Set Symmetric Difference Update\n",
    "\n",
    "Create two sets and update the first set with the symmetric difference of the two sets. Print the modified first set.\n",
    "\n",
    "### Assignment 14: Set Membership Testing\n",
    "\n",
    "Create a set and test if certain elements are present in the set. Print the results.\n",
    "\n",
    "### Assignment 15: Set of Tuples\n",
    "\n",
    "Create a set containing tuples, where each tuple contains two elements. Print the set."
   ]
  },
  {
   "cell_type": "code",
   "execution_count": 1,
   "metadata": {},
   "outputs": [
    {
     "name": "stdout",
     "output_type": "stream",
     "text": [
      "{1, 2, 3, 4, 5, 6, 7, 8, 9, 10}\n"
     ]
    }
   ],
   "source": [
    "# Assignment 1\n",
    "\n",
    "# Create a set with the first 10 positive integers. Print the set.\n",
    "\n",
    "set1 = set(range(1,11))\n",
    "print(set1)\n"
   ]
  },
  {
   "cell_type": "code",
   "execution_count": 2,
   "metadata": {},
   "outputs": [
    {
     "name": "stdout",
     "output_type": "stream",
     "text": [
      "{1, 2, 3, 4, 5, 6, 7, 8, 9, 10, 11}\n"
     ]
    }
   ],
   "source": [
    "# Assignment 2 \n",
    "\n",
    "# Add the number 11 to the set created in Assignment 1. Then remove the number 1 from the set. Print the modified set.\n",
    "\n",
    "set1.add(11)\n",
    "print(set1)"
   ]
  },
  {
   "cell_type": "code",
   "execution_count": 3,
   "metadata": {},
   "outputs": [
    {
     "name": "stdout",
     "output_type": "stream",
     "text": [
      "union : {1, 2, 3, 4, 5, 6, 8, 10}\n",
      "intersection :  {2, 4}\n",
      "difference : {1, 3, 5}\n",
      "symmetric difference : {1, 3, 5, 6, 8, 10}\n"
     ]
    }
   ],
   "source": [
    "# Assignment 3 \n",
    "\n",
    "# Create two sets: one with the first 5 positive integers and another with the first 5 even integers. \n",
    "# Perform and print the results of union, intersection, difference, and symmetric difference operations on these sets.\n",
    "\n",
    "set1 = {1,2,3,4,5}\n",
    "set2 = {2,4,6,8,10}\n",
    "\n",
    "# union\n",
    "\n",
    "print('union :', set1.union(set2))\n",
    "\n",
    "# intersection\n",
    "\n",
    "print('intersection : ', set1.intersection(set2))\n",
    "\n",
    "# difference \n",
    "\n",
    "print('difference :', set1.difference(set2))\n",
    "\n",
    "# symmetric difference\n",
    "\n",
    "print('symmetric difference :', set1.symmetric_difference(set2))\n"
   ]
  },
  {
   "cell_type": "code",
   "execution_count": null,
   "metadata": {},
   "outputs": [
    {
     "name": "stdout",
     "output_type": "stream",
     "text": [
      "{64, 1, 4, 36, 100, 9, 16, 49, 81, 25}\n"
     ]
    }
   ],
   "source": [
    "# Assignment 4 \n",
    "\n",
    "# Create a new set containing the squares of the first 10 positive integers using a set comprehension. Print the new set.\n",
    "\n",
    "set2 = {i**2 for i in range(1,11)}\n",
    "print(set2)"
   ]
  },
  {
   "cell_type": "code",
   "execution_count": 6,
   "metadata": {},
   "outputs": [
    {
     "name": "stdout",
     "output_type": "stream",
     "text": [
      "even numbers : {2, 4, 6, 8, 10}\n"
     ]
    }
   ],
   "source": [
    "# Assignment 5 \n",
    "\n",
    "# Create a new set containing only the even numbers from the set created in Assignment 1 using a set comprehension. Print the new set.\n",
    "my_set = {1, 2, 3, 4, 5, 6, 7, 8, 9, 10}\n",
    "new_Set = {i for i in my_set if i%2==0}\n",
    "print('even numbers :', new_Set)"
   ]
  },
  {
   "cell_type": "code",
   "execution_count": 7,
   "metadata": {},
   "outputs": [
    {
     "name": "stdout",
     "output_type": "stream",
     "text": [
      "{1, 2, 3, 4, 5}\n"
     ]
    }
   ],
   "source": [
    "# Assignment 6\n",
    "\n",
    "# Create a set with duplicate elements and remove the duplicates using set methods. Print the modified set.\n",
    "\n",
    "set_with_duplicates = {1, 2, 2, 3, 4, 4, 5}\n",
    "unique_set = set(set_with_duplicates)\n",
    "print(unique_set)\n"
   ]
  },
  {
   "cell_type": "code",
   "execution_count": 9,
   "metadata": {},
   "outputs": [
    {
     "name": "stdout",
     "output_type": "stream",
     "text": [
      "True\n",
      "True\n"
     ]
    }
   ],
   "source": [
    "# Assignment 7 \n",
    "\n",
    "# Create two sets: one with the first 5 positive integers and another with the first 3 positive integers. \n",
    "# Check if the second set is a subset of the first set and if the first set is a superset of the second set. \n",
    "# Print the results.\n",
    "\n",
    "set_small = set(range(1, 4))  \n",
    "set_large = set(range(1, 6)) \n",
    "\n",
    "print(set_small.issubset(set_large))\n",
    "print(set_large.issuperset(set_small))\n",
    "\n"
   ]
  },
  {
   "cell_type": "code",
   "execution_count": 10,
   "metadata": {},
   "outputs": [
    {
     "name": "stdout",
     "output_type": "stream",
     "text": [
      "Frozenset: frozenset({1, 2, 3, 4, 5})\n"
     ]
    }
   ],
   "source": [
    "# Assignment 8 \n",
    "\n",
    "# Create a frozenset with the first 5 positive integers. Print the frozenset.\n",
    "\n",
    "frozen_set = frozenset(range(1, 6))\n",
    "print(\"Frozenset:\", frozen_set)\n"
   ]
  },
  {
   "cell_type": "code",
   "execution_count": 11,
   "metadata": {},
   "outputs": [
    {
     "name": "stdout",
     "output_type": "stream",
     "text": [
      "Resulting set: {1, 2, 3, 4, 5, 6}\n"
     ]
    }
   ],
   "source": [
    "# Assignment 9 \n",
    "\n",
    "# Create a set with the first 5 positive integers. Convert it to a list, append the number 6, and convert it back to a set.\n",
    "#  Print the resulting set.\n",
    "\n",
    "set_to_list = set(range(1, 6))\n",
    "converted_list = list(set_to_list)\n",
    "converted_list.append(6)\n",
    "resulting_set = set(converted_list)\n",
    "print(\"Resulting set:\", resulting_set)\n",
    "\n"
   ]
  },
  {
   "cell_type": "code",
   "execution_count": 12,
   "metadata": {},
   "outputs": [
    {
     "name": "stdout",
     "output_type": "stream",
     "text": [
      "Dictionary with set keys: {frozenset({1, 2}): 10, frozenset({3, 4}): 20}\n"
     ]
    }
   ],
   "source": [
    "# Assignment 10 \n",
    "\n",
    "# Create a dictionary with set keys and integer values. Print the dictionary.\n",
    "\n",
    "set_dict = {frozenset({1, 2}): 10, frozenset({3, 4}): 20}\n",
    "print(\"Dictionary with set keys:\", set_dict)\n"
   ]
  },
  {
   "cell_type": "code",
   "execution_count": null,
   "metadata": {},
   "outputs": [
    {
     "name": "stdout",
     "output_type": "stream",
     "text": [
      "Set elements:\n",
      "1\n",
      "2\n",
      "3\n",
      "4\n",
      "5\n"
     ]
    }
   ],
   "source": [
    "# Assignment 11 \n",
    "\n",
    "# Create a set and iterate over the elements, printing each element.\n",
    "\n",
    "set_to_iterate = {1, 2, 3, 4, 5}\n",
    "print(\"Set elements:\")\n",
    "for element in set_to_iterate:\n",
    "    print(element)\n",
    "\n"
   ]
  },
  {
   "cell_type": "code",
   "execution_count": null,
   "metadata": {},
   "outputs": [
    {
     "name": "stdout",
     "output_type": "stream",
     "text": [
      "Set before removal: {1, 2, 3, 4, 5}\n",
      "Set before removal: {2, 3, 4, 5}\n",
      "Set before removal: {3, 4, 5}\n",
      "Set before removal: {4, 5}\n",
      "Set before removal: {5}\n",
      "Set after all removals: set()\n"
     ]
    }
   ],
   "source": [
    "# Assignment 12 \n",
    "\n",
    "set_to_remove = {1, 2, 3, 4, 5}\n",
    "while set_to_remove:\n",
    "    print(\"Set before removal:\", set_to_remove)\n",
    "    set_to_remove.pop()\n",
    "print(\"Set after all removals:\", set_to_remove)\n"
   ]
  },
  {
   "cell_type": "code",
   "execution_count": 15,
   "metadata": {},
   "outputs": [
    {
     "name": "stdout",
     "output_type": "stream",
     "text": [
      "Modified first set after symmetric difference update: {1, 2, 4, 5}\n"
     ]
    }
   ],
   "source": [
    "# Assignment 13 \n",
    "\n",
    "set_a = {1, 2, 3}\n",
    "set_b = {3, 4, 5}\n",
    "set_a.symmetric_difference_update(set_b)\n",
    "print(\"Modified first set after symmetric difference update:\", set_a)\n"
   ]
  },
  {
   "cell_type": "code",
   "execution_count": null,
   "metadata": {},
   "outputs": [
    {
     "name": "stdout",
     "output_type": "stream",
     "text": [
      "Is 3 in the set? True\n",
      "Is 6 in the set? False\n"
     ]
    }
   ],
   "source": [
    "# Assignment 14 \n",
    "\n",
    "test_set = {1, 2, 3, 4, 5}\n",
    "print(\"Is 3 in the set?\", 3 in test_set)\n",
    "print(\"Is 6 in the set?\", 6 in test_set)\n"
   ]
  },
  {
   "cell_type": "code",
   "execution_count": null,
   "metadata": {},
   "outputs": [
    {
     "name": "stdout",
     "output_type": "stream",
     "text": [
      "Set of tuples: {(2, 'b'), (1, 'a'), (3, 'c')}\n"
     ]
    }
   ],
   "source": [
    "# Assignement 15 \n",
    "\n",
    "tuple_set = {(1, 'a'), (2, 'b'), (3, 'c')}\n",
    "print(\"Set of tuples:\", tuple_set)\n"
   ]
  },
  {
   "cell_type": "code",
   "execution_count": null,
   "metadata": {},
   "outputs": [],
   "source": []
  },
  {
   "cell_type": "code",
   "execution_count": null,
   "metadata": {},
   "outputs": [],
   "source": []
  },
  {
   "cell_type": "code",
   "execution_count": null,
   "metadata": {},
   "outputs": [],
   "source": []
  }
 ],
 "metadata": {
  "kernelspec": {
   "display_name": "base",
   "language": "python",
   "name": "python3"
  },
  "language_info": {
   "codemirror_mode": {
    "name": "ipython",
    "version": 3
   },
   "file_extension": ".py",
   "mimetype": "text/x-python",
   "name": "python",
   "nbconvert_exporter": "python",
   "pygments_lexer": "ipython3",
   "version": "3.9.12"
  }
 },
 "nbformat": 4,
 "nbformat_minor": 2
}
